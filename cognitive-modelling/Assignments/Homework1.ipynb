{
 "cells": [
  {
   "cell_type": "markdown",
   "metadata": {},
   "source": [
    "# Cognitive Modelling: Homework 1\n",
    "Name: Vishal Sreenivasan  \n",
    "Student No.: S4196392"
   ]
  },
  {
   "cell_type": "markdown",
   "metadata": {},
   "source": [
    "## Importing files"
   ]
  },
  {
   "cell_type": "code",
   "execution_count": 1,
   "metadata": {},
   "outputs": [],
   "source": [
    "from model import Model\n",
    "from dmchunk import Chunk"
   ]
  },
  {
   "cell_type": "markdown",
   "metadata": {},
   "source": [
    "## Initializing the model"
   ]
  },
  {
   "cell_type": "code",
   "execution_count": 2,
   "metadata": {},
   "outputs": [],
   "source": [
    "m = Model()"
   ]
  },
  {
   "cell_type": "markdown",
   "metadata": {},
   "source": [
    "## Adding numbers to declarative memory"
   ]
  },
  {
   "cell_type": "code",
   "execution_count": 3,
   "metadata": {},
   "outputs": [],
   "source": [
    "numbers = [\"zero\", \"one\",\n",
    "           \"two\", \"three\",\n",
    "           \"four\", \"five\",\n",
    "           \"six\", \"seven\",\n",
    "           \"eight\",\"nine\",\n",
    "           \"ten\",\"eleven\",\n",
    "           \"twelve\",\"thirteen\",\n",
    "           \"fourteen\", \"fifteen\"]\n",
    "\n",
    "for i in range(0,len(numbers)-1):\n",
    "    #Numbers are intialized using chunks\n",
    "    fact = Chunk(name = \"af\" + numbers[i], slots ={\"isa\":\"add-fact\", \"num1\": numbers[i], \"num2\" : numbers[i+1]})\n",
    "    #Chunks are added to the declarative memory\n",
    "    m.add_encounter(fact)"
   ]
  },
  {
   "cell_type": "code",
   "execution_count": 4,
   "metadata": {},
   "outputs": [
    {
     "name": "stdout",
     "output_type": "stream",
     "text": [
      "\n",
      "=== Model ===\n",
      "Time: 0 s \n",
      "Goal:None\n",
      "DM:Chunk afzero\n",
      "Slots: {'isa': 'add-fact', 'num1': 'zero', 'num2': 'one'}\n",
      "Encounters: [0]\n",
      "Fan: 0\n",
      "\n",
      "Chunk add-fact\n",
      "Slots: {}\n",
      "Encounters: [0]\n",
      "Fan: 15\n",
      "\n",
      "Chunk zero\n",
      "Slots: {}\n",
      "Encounters: [0]\n",
      "Fan: 1\n",
      "\n",
      "Chunk one\n",
      "Slots: {}\n",
      "Encounters: [0]\n",
      "Fan: 2\n",
      "\n",
      "Chunk afone\n",
      "Slots: {'isa': 'add-fact', 'num1': 'one', 'num2': 'two'}\n",
      "Encounters: [0]\n",
      "Fan: 0\n",
      "\n",
      "Chunk two\n",
      "Slots: {}\n",
      "Encounters: [0]\n",
      "Fan: 2\n",
      "\n",
      "Chunk aftwo\n",
      "Slots: {'isa': 'add-fact', 'num1': 'two', 'num2': 'three'}\n",
      "Encounters: [0]\n",
      "Fan: 0\n",
      "\n",
      "Chunk three\n",
      "Slots: {}\n",
      "Encounters: [0]\n",
      "Fan: 2\n",
      "\n",
      "Chunk afthree\n",
      "Slots: {'isa': 'add-fact', 'num1': 'three', 'num2': 'four'}\n",
      "Encounters: [0]\n",
      "Fan: 0\n",
      "\n",
      "Chunk four\n",
      "Slots: {}\n",
      "Encounters: [0]\n",
      "Fan: 2\n",
      "\n",
      "Chunk affour\n",
      "Slots: {'isa': 'add-fact', 'num1': 'four', 'num2': 'five'}\n",
      "Encounters: [0]\n",
      "Fan: 0\n",
      "\n",
      "Chunk five\n",
      "Slots: {}\n",
      "Encounters: [0]\n",
      "Fan: 2\n",
      "\n",
      "Chunk affive\n",
      "Slots: {'isa': 'add-fact', 'num1': 'five', 'num2': 'six'}\n",
      "Encounters: [0]\n",
      "Fan: 0\n",
      "\n",
      "Chunk six\n",
      "Slots: {}\n",
      "Encounters: [0]\n",
      "Fan: 2\n",
      "\n",
      "Chunk afsix\n",
      "Slots: {'isa': 'add-fact', 'num1': 'six', 'num2': 'seven'}\n",
      "Encounters: [0]\n",
      "Fan: 0\n",
      "\n",
      "Chunk seven\n",
      "Slots: {}\n",
      "Encounters: [0]\n",
      "Fan: 2\n",
      "\n",
      "Chunk afseven\n",
      "Slots: {'isa': 'add-fact', 'num1': 'seven', 'num2': 'eight'}\n",
      "Encounters: [0]\n",
      "Fan: 0\n",
      "\n",
      "Chunk eight\n",
      "Slots: {}\n",
      "Encounters: [0]\n",
      "Fan: 2\n",
      "\n",
      "Chunk afeight\n",
      "Slots: {'isa': 'add-fact', 'num1': 'eight', 'num2': 'nine'}\n",
      "Encounters: [0]\n",
      "Fan: 0\n",
      "\n",
      "Chunk nine\n",
      "Slots: {}\n",
      "Encounters: [0]\n",
      "Fan: 2\n",
      "\n",
      "Chunk afnine\n",
      "Slots: {'isa': 'add-fact', 'num1': 'nine', 'num2': 'ten'}\n",
      "Encounters: [0]\n",
      "Fan: 0\n",
      "\n",
      "Chunk ten\n",
      "Slots: {}\n",
      "Encounters: [0]\n",
      "Fan: 2\n",
      "\n",
      "Chunk aften\n",
      "Slots: {'isa': 'add-fact', 'num1': 'ten', 'num2': 'eleven'}\n",
      "Encounters: [0]\n",
      "Fan: 0\n",
      "\n",
      "Chunk eleven\n",
      "Slots: {}\n",
      "Encounters: [0]\n",
      "Fan: 2\n",
      "\n",
      "Chunk afeleven\n",
      "Slots: {'isa': 'add-fact', 'num1': 'eleven', 'num2': 'twelve'}\n",
      "Encounters: [0]\n",
      "Fan: 0\n",
      "\n",
      "Chunk twelve\n",
      "Slots: {}\n",
      "Encounters: [0]\n",
      "Fan: 2\n",
      "\n",
      "Chunk aftwelve\n",
      "Slots: {'isa': 'add-fact', 'num1': 'twelve', 'num2': 'thirteen'}\n",
      "Encounters: [0]\n",
      "Fan: 0\n",
      "\n",
      "Chunk thirteen\n",
      "Slots: {}\n",
      "Encounters: [0]\n",
      "Fan: 2\n",
      "\n",
      "Chunk afthirteen\n",
      "Slots: {'isa': 'add-fact', 'num1': 'thirteen', 'num2': 'fourteen'}\n",
      "Encounters: [0]\n",
      "Fan: 0\n",
      "\n",
      "Chunk fourteen\n",
      "Slots: {}\n",
      "Encounters: [0]\n",
      "Fan: 2\n",
      "\n",
      "Chunk affourteen\n",
      "Slots: {'isa': 'add-fact', 'num1': 'fourteen', 'num2': 'fifteen'}\n",
      "Encounters: [0]\n",
      "Fan: 0\n",
      "\n",
      "Chunk fifteen\n",
      "Slots: {}\n",
      "Encounters: [0]\n",
      "Fan: 1\n",
      "\n",
      "\n"
     ]
    }
   ],
   "source": [
    "print(m)"
   ]
  },
  {
   "cell_type": "markdown",
   "metadata": {},
   "source": [
    "## Add function"
   ]
  },
  {
   "cell_type": "code",
   "execution_count": 5,
   "metadata": {},
   "outputs": [],
   "source": [
    "def add(num1, num2):\n",
    "    g = Chunk(name = \"goal\", \n",
    "              slots = {\"isa\": \"add-goal\", \"start\": num1, \"end\": num2, \"counter\": \"zero\"}) #Initialize goal with a counter buffer\n",
    "    m.goal = g\n",
    "    done = False\n",
    "    while not done:\n",
    "        if not \"current\" in g.slots:\n",
    "            #Initialize current with the start value\n",
    "            g.slots[\"current\"] = g.slots[\"start\"]\n",
    "            print(g.slots[\"current\"])\n",
    "            \n",
    "            #Request for current\n",
    "            request = Chunk(name = \"request\", slots = {\"isa\": \"add-fact\", \"num1\": g.slots[\"current\"]})\n",
    "            #Request for counter\n",
    "            count_request = Chunk(name = \"count_request\", slots = {\"isa\": \"add-fact\", \"num1\": g.slots[\"counter\"]}) \n",
    "            \n",
    "            m.time += 0.05\n",
    "            \n",
    "            #Retrieve the next number to the current number\n",
    "            chunk, latency = m.retrieve(request)\n",
    "            #Retrieve the next number to the counter number\n",
    "            count_chunk, count_latency = m.retrieve(count_request)\n",
    "            \n",
    "            #Update current\n",
    "            g.slots[\"current\"] = chunk.slots[\"num2\"]\n",
    "            #Update counter\n",
    "            g.slots[\"counter\"] = count_chunk.slots[\"num2\"]\n",
    "            \n",
    "            m.time += (latency + count_latency)\n",
    "            \n",
    "        elif g.slots[\"counter\"] != g.slots[\"end\"]: #Check if counter does not exceed end value\n",
    "            print(g.slots[\"current\"])\n",
    "            \n",
    "            request = Chunk(name = \"request\", slots = {\"isa\": \"add-fact\", \"num1\": g.slots[\"current\"]})\n",
    "            count_request = Chunk(name = \"count_request\", slots = {\"isa\": \"add-fact\", \"num1\": g.slots[\"counter\"]})\n",
    "            \n",
    "            m.time += 0.05\n",
    "            \n",
    "            chunk, latency = m.retrieve(request)\n",
    "            count_chunk, count_latency = m.retrieve(count_request)\n",
    "            \n",
    "            g.slots[\"current\"] = chunk.slots[\"num2\"]\n",
    "            g.slots[\"counter\"] = count_chunk.slots[\"num2\"]\n",
    "            \n",
    "            m.time += (latency + count_latency)\n",
    "        else:\n",
    "            print(g.slots[\"current\"])\n",
    "            done = True"
   ]
  },
  {
   "cell_type": "markdown",
   "metadata": {},
   "source": [
    "## Result"
   ]
  },
  {
   "cell_type": "code",
   "execution_count": 6,
   "metadata": {
    "scrolled": true
   },
   "outputs": [
    {
     "name": "stdout",
     "output_type": "stream",
     "text": [
      "two\n",
      "three\n",
      "four\n",
      "five\n",
      "six\n",
      "seven\n",
      "eight\n",
      "nine\n",
      "ten\n",
      "eleven\n",
      "twelve\n"
     ]
    }
   ],
   "source": [
    "add(\"two\", \"ten\")"
   ]
  }
 ],
 "metadata": {
  "kernelspec": {
   "display_name": "Python 3",
   "language": "python",
   "name": "python3"
  },
  "language_info": {
   "codemirror_mode": {
    "name": "ipython",
    "version": 3
   },
   "file_extension": ".py",
   "mimetype": "text/x-python",
   "name": "python",
   "nbconvert_exporter": "python",
   "pygments_lexer": "ipython3",
   "version": "3.9.7"
  }
 },
 "nbformat": 4,
 "nbformat_minor": 4
}
