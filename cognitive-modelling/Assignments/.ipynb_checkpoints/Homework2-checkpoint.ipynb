{
 "cells": [
  {
   "cell_type": "markdown",
   "metadata": {},
   "source": [
    "# Cognitive Modelling: Homework 2\n",
    "Name: Vishal Sreenivasan  \n",
    "Student No.: S4196392"
   ]
  },
  {
   "cell_type": "markdown",
   "metadata": {},
   "source": [
    "## Importing files & libraries"
   ]
  },
  {
   "cell_type": "code",
   "execution_count": 235,
   "metadata": {},
   "outputs": [],
   "source": [
    "from model import Model\n",
    "from dmchunk import Chunk\n",
    "import pandas as pd\n",
    "import random\n",
    "import numpy as np\n",
    "import matplotlib.pyplot as plt"
   ]
  },
  {
   "cell_type": "markdown",
   "metadata": {},
   "source": [
    "## Ready Set Go base function"
   ]
  },
  {
   "cell_type": "code",
   "execution_count": 228,
   "metadata": {},
   "outputs": [],
   "source": [
    "def rsg(m, interA, interB):\n",
    "    #initializing the cues\n",
    "    cues = [\"Ready\", \"Set\", \"Go\"]\n",
    "    #adding cues to model dm\n",
    "    for i in range(len(cues) - 1):\n",
    "        fact = Chunk(name = \"rsg\"+cues[i], slots = {\"isa\": \"rsa-fact\", \"obj1\": cues[i], \"obj2\": cues[i+1]})\n",
    "        m.add_encounter(fact)\n",
    "        \n",
    "    #setting goal chunk\n",
    "    g = Chunk(name = \"goal\", slots = {\"isa\": \"rsg-goal\", \"start\": cues[0], \"end\": cues[-1]})\n",
    "    m.goal = g\n",
    "    done = False\n",
    "    \n",
    "    #random delay\n",
    "    delay_time = random.uniform(0.25,0.85)\n",
    "    #sample interval\n",
    "    interval_time = random.uniform(interA, interB)\n",
    "    while not done:\n",
    "        if not \"current\" in g.slots:\n",
    "            m.time += delay_time\n",
    "            g.slots[\"current\"] = g.slots[\"start\"]\n",
    "        elif g.slots[\"current\"] != g.slots[\"end\"]:\n",
    "            request = Chunk(name = \"request\", slots = {\"isa\":\"rsa-fact\", \"obj1\": g.slots[\"current\"]})\n",
    "            chunk, latency = m.retrieve(request)\n",
    "            g.slots[\"current\"] = chunk.slots[\"obj2\"]\n",
    "            m.time += latency\n",
    "            m.time += interval_time\n",
    "        else:\n",
    "            done = True"
   ]
  },
  {
   "cell_type": "markdown",
   "metadata": {},
   "source": [
    "## Function to loop for n participants"
   ]
  },
  {
   "cell_type": "code",
   "execution_count": 229,
   "metadata": {},
   "outputs": [],
   "source": [
    "def ready_set_go(n, n_training = 500, n_testing = 1000):\n",
    "    #Setup dataframe\n",
    "    df = pd.DataFrame(columns = [\"Subject\", \"Cond\", \"Trial\", \"T_s\", \"T_p\", \"Main\"])\n",
    "    \n",
    "    #variable for counting trials\n",
    "    trial = 0\n",
    "    \n",
    "    #Three conditions: Long, Intermediate & Short\n",
    "    conditions = [\"One\", \"Two\", \"Three\"]\n",
    "    #Sample distribution range\n",
    "    interval_cond = {\"One\": [0.494, 0.847],\n",
    "                    \"Two\": [0.671, 1.023],\n",
    "                    \"Three\": [0.847, 1.20]}\n",
    "    \n",
    "    for cond in conditions:\n",
    "        for n_i in range(n):\n",
    "            m = Model() # create a new model for each subject\n",
    "\n",
    "            for train in range(n_training):\n",
    "                start_time = m.time\n",
    "                rsg(m, *interval_cond[cond])\n",
    "                \n",
    "                #converting secs to ms\n",
    "                f_time = round((m.time - start_time) * 1000, 2)\n",
    "                \n",
    "                data = {\"Subject\": n_i, \n",
    "                        \"Cond\": cond,\n",
    "                        \"Trial\": trial,\n",
    "                        \"T_s\": f_time,\n",
    "                        \"T_p\": f_time,\n",
    "                        \"Main\": \"Train\"}\n",
    "                df = df.append(data, ignore_index=True)\n",
    "                \n",
    "                trial += 1\n",
    "\n",
    "            for test in range(n_testing):\n",
    "                start_time = m.time\n",
    "                rsg(m, *interval_cond[cond])\n",
    "                \n",
    "                data = {\"Subject\": n_i, \n",
    "                        \"Cond\": cond,\n",
    "                        \"Trial\": trial,\n",
    "                        \"T_s\": f_time,\n",
    "                        \"T_p\": f_time,\n",
    "                        \"Main\": \"Test\"}\n",
    "                df = df.append(data, ignore_index=True)\n",
    "                \n",
    "                trial += 1\n",
    "    \n",
    "    return df"
   ]
  },
  {
   "cell_type": "markdown",
   "metadata": {},
   "source": [
    "## Run\n",
    "Model is ran for 5 participants and the data is stored for future analysis"
   ]
  },
  {
   "cell_type": "code",
   "execution_count": 232,
   "metadata": {},
   "outputs": [],
   "source": [
    "df = ready_set_go(5)\n",
    "df.to_csv(\"hw2.csv\", index = False)"
   ]
  },
  {
   "cell_type": "markdown",
   "metadata": {},
   "source": [
    "## Plot function (Provided by faculty)"
   ]
  },
  {
   "cell_type": "code",
   "execution_count": 236,
   "metadata": {},
   "outputs": [
    {
     "data": {
      "text/plain": [
       "<matplotlib.legend.Legend at 0x1592a0e0bb0>"
      ]
     },
     "execution_count": 236,
     "metadata": {},
     "output_type": "execute_result"
    },
    {
     "data": {
      "image/png": "[encoded data removed]",
      "text/plain": [
       "<Figure size 432x432 with 1 Axes>"
      ]
     },
     "metadata": {
      "needs_background": "light"
     },
     "output_type": "display_data"
    }
   ],
   "source": [
    "# Remove training trials\n",
    "dat = df[df['Main'] == \"Test\"]\n",
    "\n",
    "# Calculate mean Tp by condition\n",
    "mean_tp = dat.groupby(['Cond', 'T_s'])['T_p'].mean().reset_index()\n",
    "\n",
    "yrange = np.multiply((min(mean_tp['T_s']), max(mean_tp['T_s'])), [0.95, 1.05])\n",
    "\n",
    "cond1 = mean_tp.loc[mean_tp['Cond'] == \"One\"]\n",
    "cond2 = mean_tp.loc[mean_tp['Cond'] == \"Two\"]\n",
    "cond3 = mean_tp.loc[mean_tp['Cond'] == \"Three\"]\n",
    "\n",
    "# Add jitter noise\n",
    "jitter = dat.copy()\n",
    "jitter['T_s'] = jitter['T_s'] + np.random.uniform(-5, 5, len(dat))\n",
    "cond1_jitter = jitter.loc[jitter['Cond'] == \"One\"]\n",
    "cond2_jitter = jitter.loc[jitter['Cond'] == \"Two\"]\n",
    "cond3_jitter = jitter.loc[jitter['Cond'] == \"Three\"]\n",
    "\n",
    "# Make plot\n",
    "f, ax = plt.subplots(figsize = (6,6))\n",
    "\n",
    "ax.set(xlim = yrange, ylim = yrange)\n",
    "f.gca().set_aspect('equal', adjustable = 'box')\n",
    "\n",
    "ax.set_xlabel('Sample interval (ms)')\n",
    "ax.set_ylabel('Production time (ms)')\n",
    "\n",
    "ax.plot(yrange, yrange, linestyle = '--', color ='gray')\n",
    "\n",
    "ax.scatter(cond1_jitter['T_s'], cond1_jitter['T_p'], marker = '.', color = 'black', alpha = 0.025, label = None)\n",
    "ax.scatter(cond2_jitter['T_s'], cond2_jitter['T_p'], marker = '.', color = 'brown', alpha = 0.025, label = None)\n",
    "ax.scatter(cond3_jitter['T_s'], cond3_jitter['T_p'], marker = '.', color = 'red', alpha = 0.025, label = None)\n",
    "\n",
    "ax.plot(cond1['T_s'], cond1['T_p'], color = 'black', marker = 'o', label = \"short\")\n",
    "ax.plot(cond2['T_s'], cond2['T_p'], color = 'brown', marker = 'o', label = \"intermediate\")\n",
    "ax.plot(cond3['T_s'], cond3['T_p'], color = 'red', marker = 'o', label = \"long\")\n",
    "\n",
    "ax.legend(title = 'Prior condition', loc = 4)"
   ]
  }
 ],
 "metadata": {
  "kernelspec": {
   "display_name": "Python 3",
   "language": "python",
   "name": "python3"
  },
  "language_info": {
   "codemirror_mode": {
    "name": "ipython",
    "version": 3
   },
   "file_extension": ".py",
   "mimetype": "text/x-python",
   "name": "python",
   "nbconvert_exporter": "python",
   "pygments_lexer": "ipython3",
   "version": "3.9.7"
  }
 },
 "nbformat": 4,
 "nbformat_minor": 4
}
