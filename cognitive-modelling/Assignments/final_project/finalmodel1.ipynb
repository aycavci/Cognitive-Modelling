{
 "cells": [
  {
   "cell_type": "markdown",
   "metadata": {},
   "source": [
    "# FINAL MODEL 1\n",
    "#### Name: Manuel Alejandro Delgadillo Ferrel\n",
    "#### Student number: S4400151"
   ]
  },
  {
   "cell_type": "code",
   "execution_count": 11,
   "metadata": {},
   "outputs": [],
   "source": [
    "#Importing necessary libraries\n",
    "import pandas as pd\n",
    "import numpy as np\n",
    "import matplotlib.pyplot as plt\n",
    "from model import Model\n",
    "from dmchunk import Chunk\n",
    "import math\n",
    "import random"
   ]
  },
  {
   "cell_type": "code",
   "execution_count": 12,
   "metadata": {},
   "outputs": [
    {
     "name": "stdout",
     "output_type": "stream",
     "text": [
      "[450. 525. 600. 675. 750. 825.]\n",
      "[ 750.  825.  900.  975. 1050. 1125.]\n",
      "[ 93.75  56.25  18.75 -18.75 -56.25 -93.75]\n"
     ]
    }
   ],
   "source": [
    "def mean(x):\n",
    "    return sum(x)/ len(x)\n",
    "\n",
    "participants = 10\n",
    "conditions = 2\n",
    "MaxTrial = 1500\n",
    "\n",
    "short_inter = np.linspace(450, 825, num=6)\n",
    "long_inter = np.linspace(750, 1125, num=6)\n",
    "a= mean(short_inter)\n",
    "print(short_inter)\n",
    "print(long_inter)\n",
    "b = (a- short_inter)/2\n",
    "print(b)"
   ]
  },
  {
   "cell_type": "code",
   "execution_count": 13,
   "metadata": {},
   "outputs": [],
   "source": [
    "discrete_values = np.array([450,  525,  600,  675,  750, 825, 900, 975, 1050, 1125])\n",
    "dis_values = np.array([93.75, 56.25, 18.75, -18.75, -56.25, -93.75])\n",
    "short_value = discrete_values[0:6]\n",
    "long_value = discrete_values[5:10]\n",
    "\n",
    "dis_val = dis_values[0:5]\n",
    "\n",
    "intervals = [short_value,long_value]\n",
    "total_dis_values = [dis_val]"
   ]
  },
  {
   "cell_type": "code",
   "execution_count": 14,
   "metadata": {},
   "outputs": [],
   "source": [
    "def noise(s):\n",
    "    rand = random.uniform(0.001,0.999)\n",
    "    return s * math.log((1 - rand)/rand)\n",
    "\n",
    "def time_to_pulses(time, t_0 = 0.011, a = 1.1, b = 0.015):\n",
    "    pulses = 0\n",
    "    pulse_duration = t_0\n",
    "    while time >= pulse_duration:\n",
    "        time = time - pulse_duration\n",
    "        pulses += 1\n",
    "        pulse_duration = a * pulse_duration + noise(b * a * pulse_duration)\n",
    "    return pulses\n",
    "\n",
    "def pulses_to_time(pulses, t_0 = 0.011, a = 1.1, b = 0.015):\n",
    "    time = 0\n",
    "    pulse_duration = t_0\n",
    "    while pulses > 0:\n",
    "        time = time + pulse_duration\n",
    "        pulses = pulses - 1\n",
    "        pulse_duration = a * pulse_duration + noise(b * a * pulse_duration)\n",
    "    return time\n"
   ]
  },
  {
   "cell_type": "code",
   "execution_count": 18,
   "metadata": {},
   "outputs": [],
   "source": [
    "count = 0\n",
    "training_trials = 500\n",
    "df = pd.DataFrame(columns = [\"Subj\", \"Block\", \"Trial\", \"int\", \"resp\", \"Cond\"])\n",
    "\n",
    "for subj in range(1,participants+1):\n",
    "    \n",
    "    #Creating a model for each subject with his own brain\n",
    "    m = Model()\n",
    "    \n",
    "    random_delay = random.uniform(1,2)\n",
    "    \n",
    "    for Block in range(conditions):\n",
    "        time_cond = intervals[Block]\n",
    "        plot = True\n",
    "        \n",
    "        for trial in range(MaxTrial):\n",
    "                       \n",
    "            m.time += 1\n",
    "            \n",
    "            m.time += random_delay\n",
    "            \n",
    "            duration = np.random.choice(time_cond)\n",
    "            \n",
    "            m.time += duration/1000\n",
    "            \n",
    "            seconds = duration/1000\n",
    "            \n",
    "            pulses = time_to_pulses(seconds)\n",
    "            \n",
    "            \n",
    "            fact = Chunk(name = \"tf\" + str(pulses), slots ={\"isa\":\"time-fact\", \"pulses\" : pulses})\n",
    "            \n",
    "            m.add_encounter(fact)\n",
    "            \n",
    "            m.time += 0.010\n",
    "            \n",
    "            pattern = Chunk(name = \"isa-goal\", slots = {\"isa\":\"time-fact\"})\n",
    "            t,latency = m.retrieve_blend_trace(pattern, \"pulses\")\n",
    "            m.time += latency\n",
    "            m.time += pulses_to_time(t)\n",
    "            t = (pulses_to_time(t))\n",
    "            \n",
    "            df.loc[count] = [subj,Block+1,trial+1,duration/1000,t,plot]\n",
    "            count += 1         "
   ]
  },
  {
   "cell_type": "code",
   "execution_count": 19,
   "metadata": {},
   "outputs": [],
   "source": [
    "df.to_csv(\"model3.csv\", index = False)\n"
   ]
  },
  {
   "cell_type": "code",
   "execution_count": 21,
   "metadata": {},
   "outputs": [
    {
     "data": {
      "text/html": [
       "<div>\n",
       "<style scoped>\n",
       "    .dataframe tbody tr th:only-of-type {\n",
       "        vertical-align: middle;\n",
       "    }\n",
       "\n",
       "    .dataframe tbody tr th {\n",
       "        vertical-align: top;\n",
       "    }\n",
       "\n",
       "    .dataframe thead th {\n",
       "        text-align: right;\n",
       "    }\n",
       "</style>\n",
       "<table border=\"1\" class=\"dataframe\">\n",
       "  <thead>\n",
       "    <tr style=\"text-align: right;\">\n",
       "      <th></th>\n",
       "      <th>Subj</th>\n",
       "      <th>Block</th>\n",
       "      <th>Trial</th>\n",
       "      <th>int</th>\n",
       "      <th>resp</th>\n",
       "      <th>Main</th>\n",
       "    </tr>\n",
       "  </thead>\n",
       "  <tbody>\n",
       "    <tr>\n",
       "      <th>0</th>\n",
       "      <td>1</td>\n",
       "      <td>1</td>\n",
       "      <td>1</td>\n",
       "      <td>0.825</td>\n",
       "      <td>0.793962</td>\n",
       "      <td>True</td>\n",
       "    </tr>\n",
       "    <tr>\n",
       "      <th>1</th>\n",
       "      <td>1</td>\n",
       "      <td>1</td>\n",
       "      <td>2</td>\n",
       "      <td>0.750</td>\n",
       "      <td>0.552321</td>\n",
       "      <td>True</td>\n",
       "    </tr>\n",
       "    <tr>\n",
       "      <th>2</th>\n",
       "      <td>1</td>\n",
       "      <td>1</td>\n",
       "      <td>3</td>\n",
       "      <td>0.825</td>\n",
       "      <td>0.883426</td>\n",
       "      <td>True</td>\n",
       "    </tr>\n",
       "    <tr>\n",
       "      <th>3</th>\n",
       "      <td>1</td>\n",
       "      <td>1</td>\n",
       "      <td>4</td>\n",
       "      <td>0.450</td>\n",
       "      <td>0.409198</td>\n",
       "      <td>True</td>\n",
       "    </tr>\n",
       "    <tr>\n",
       "      <th>4</th>\n",
       "      <td>1</td>\n",
       "      <td>1</td>\n",
       "      <td>5</td>\n",
       "      <td>0.450</td>\n",
       "      <td>0.467131</td>\n",
       "      <td>True</td>\n",
       "    </tr>\n",
       "  </tbody>\n",
       "</table>\n",
       "</div>"
      ],
      "text/plain": [
       "  Subj Block Trial    int      resp  Main\n",
       "0    1     1     1  0.825  0.793962  True\n",
       "1    1     1     2  0.750  0.552321  True\n",
       "2    1     1     3  0.825  0.883426  True\n",
       "3    1     1     4  0.450  0.409198  True\n",
       "4    1     1     5  0.450  0.467131  True"
      ]
     },
     "execution_count": 21,
     "metadata": {},
     "output_type": "execute_result"
    }
   ],
   "source": [
    "df.head()"
   ]
  },
  {
   "cell_type": "code",
   "execution_count": null,
   "metadata": {},
   "outputs": [],
   "source": []
  }
 ],
 "metadata": {
  "kernelspec": {
   "display_name": "Python 3",
   "language": "python",
   "name": "python3"
  },
  "language_info": {
   "codemirror_mode": {
    "name": "ipython",
    "version": 3
   },
   "file_extension": ".py",
   "mimetype": "text/x-python",
   "name": "python",
   "nbconvert_exporter": "python",
   "pygments_lexer": "ipython3",
   "version": "3.9.7"
  }
 },
 "nbformat": 4,
 "nbformat_minor": 4
}
