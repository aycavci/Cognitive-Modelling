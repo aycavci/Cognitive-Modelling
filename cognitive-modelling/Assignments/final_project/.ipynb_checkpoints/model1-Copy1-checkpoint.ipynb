{
 "cells": [
  {
   "cell_type": "markdown",
   "metadata": {},
   "source": [
    "# FINAL MODEL 1\n",
    "#### Name: Manuel Alejandro Delgadillo Ferrel\n",
    "#### Student number: S4400151"
   ]
  },
  {
   "cell_type": "code",
   "execution_count": 273,
   "metadata": {},
   "outputs": [],
   "source": [
    "#Importing necessary libraries\n",
    "import pandas as pd\n",
    "import numpy as np\n",
    "import matplotlib.pyplot as plt\n",
    "from model import Model\n",
    "from dmchunk import Chunk\n",
    "import math\n",
    "import random"
   ]
  },
  {
   "cell_type": "code",
   "execution_count": 274,
   "metadata": {},
   "outputs": [],
   "source": [
    "# Time conversion functions\n",
    "def noise(s):\n",
    "    rand = random.uniform(0.001,0.999)\n",
    "    return s * math.log((1 - rand)/rand)\n",
    "\n",
    "def time_to_pulses(time, t_0 = 0.011, a = 1.1, b = 0.015):\n",
    "    pulses = 0\n",
    "    pulse_duration = t_0\n",
    "    while time >= pulse_duration:\n",
    "        time = time - pulse_duration\n",
    "        pulses += 1\n",
    "        pulse_duration = a * pulse_duration + noise(b * a * pulse_duration)\n",
    "    return pulses\n",
    "\n",
    "def pulses_to_time(pulses, t_0 = 0.011, a = 1.1, b = 0.015):\n",
    "    time = 0\n",
    "    pulse_duration = t_0\n",
    "    while pulses > 0:\n",
    "        time = time + pulse_duration\n",
    "        pulses = pulses - 1\n",
    "        pulse_duration = a * pulse_duration + noise(b * a * pulse_duration)\n",
    "    return time\n",
    "\n",
    "#Functions for standard deviation\n",
    "def variance(data, ddof=0):\n",
    "    n = len(data)\n",
    "    mean = sum(data)/n\n",
    "    return sum((x-mean)**2 for x in data) / (n-ddof)\n",
    "def stdev(data):\n",
    "    var = variance(data)\n",
    "    std_dev = math.sqrt(var)\n",
    "    return std_dev"
   ]
  },
  {
   "cell_type": "code",
   "execution_count": 275,
   "metadata": {},
   "outputs": [],
   "source": [
    "#Setting up initial values\n",
    "participants = 10\n",
    "conditions = 2\n",
    "TrainingTrials = 500\n",
    "MaxTrials = 1500\n",
    "\n",
    "short_inter = np.linspace(450, 825, num=6)\n",
    "long_inter = np.linspace(750, 1125, num=6)\n",
    "medium_inter = np.linspace(600, 975, num=6)\n",
    "\n",
    "#Only for probability values\n",
    "i = 1/6\n",
    "chance = [i for j in range(6)]\n",
    "\n",
    "#The 675 ms interval occurred with more frequency\n",
    "probability = {\"Short Uniform\": chance,\n",
    "               \"Long Uniform\": chance,\n",
    "               \"Uniform\": chance,\n",
    "               \"Peaked\": [1/12, 7/12, 1/12, 1/12, 1/12, 1/12]}\n",
    "\n"
   ]
  },
  {
   "cell_type": "code",
   "execution_count": 276,
   "metadata": {},
   "outputs": [
    {
     "data": {
      "text/plain": [
       "array([450., 525., 600., 675., 750., 825.])"
      ]
     },
     "execution_count": 276,
     "metadata": {},
     "output_type": "execute_result"
    }
   ],
   "source": [
    "#Only for observing purposes\n",
    "short_inter"
   ]
  },
  {
   "cell_type": "code",
   "execution_count": 277,
   "metadata": {},
   "outputs": [
    {
     "data": {
      "text/plain": [
       "array([ 750.,  825.,  900.,  975., 1050., 1125.])"
      ]
     },
     "execution_count": 277,
     "metadata": {},
     "output_type": "execute_result"
    }
   ],
   "source": [
    "long_inter"
   ]
  },
  {
   "cell_type": "code",
   "execution_count": 278,
   "metadata": {},
   "outputs": [
    {
     "data": {
      "text/plain": [
       "array([600., 675., 750., 825., 900., 975.])"
      ]
     },
     "execution_count": 278,
     "metadata": {},
     "output_type": "execute_result"
    }
   ],
   "source": [
    "medium_inter"
   ]
  },
  {
   "cell_type": "code",
   "execution_count": 279,
   "metadata": {},
   "outputs": [],
   "source": [
    "#Heading of the dataframe\n",
    "count = 0\n",
    "df = pd.DataFrame(columns = [\"int\", \"resp\",\"Subject\", \"Block\", \"Run\", \"Task\", \"Main\"])\n",
    "\n",
    "for Subject in range(1, participants+1):\n",
    "    if Subject <= 4:\n",
    "        conditions = {\"Short Uniform\": short_inter,\n",
    "                      \"Long Uniform\": long_inter}\n",
    "        Task=1\n",
    "    else:\n",
    "        conditions = {\"Uniform\": medium_inter,\n",
    "                      \"Peaked\": medium_inter}\n",
    "        Task=2\n",
    "    for cond in conditions:\n",
    "        m = Model()\n",
    "        main = False\n",
    "                \n",
    "        #trials ranging from 500 to 1500\n",
    "        train_trials = np.random.randint(TrainingTrials, MaxTrials)\n",
    "            \n",
    "        #sessions were divided into 2 trials\n",
    "        TestTrials = train_trials + MaxTrials - TrainingTrials\n",
    "            \n",
    "        for trial in range(TestTrials):\n",
    "            #initial 1s\n",
    "            m.time += 1\n",
    "               \n",
    "            #interval for each condition (short, long, uniform and peaked)\n",
    "            interval = np.random.choice(conditions[cond], p = probability[cond])\n",
    "            m.time += interval /1000\n",
    "            pulses = time_to_pulses(interval / 1000)\n",
    "                \n",
    "            #Yellow dot appears on the screen for at least 185 ms which varies from trial to trial\n",
    "            m.time += np.random.uniform(0.0185, 0.02)\n",
    "            \n",
    "            #Input Chunk\n",
    "            fact = Chunk(name = \"tf\" + str(pulses), slots ={\"isa\":\"time-fact\", \"pulses\" : pulses})\n",
    "            m.add_encounter(fact)\n",
    "                \n",
    "            #wait for at least 250ms after the flash\n",
    "            m.time += np.random.uniform(0.25, 1)\n",
    "                \n",
    "            #time interval\n",
    "            pattern = Chunk(name = \"retreiving-goal\", slots = {\"isa\":\"time-fact\"})\n",
    "            t,latency = m.retrieve_blended_trace(pattern, \"pulses\")\n",
    "\n",
    "            time = pulses_to_time(t)\n",
    "            m.time += pulses_to_time(t)\n",
    "            time = (pulses_to_time(t))*1000\n",
    "                \n",
    "            #delay of 450ms-850ms before feedback\n",
    "            m.time += np.random.uniform(0.45, 0.85)\n",
    "                \n",
    "            #displaying of the performance for 62ms\n",
    "            m.time += 0.062\n",
    "                \n",
    "            #Recording of the training was necessary for observing purposes\n",
    "            if trial > train_trials:\n",
    "                main = True\n",
    "                df.loc[count] = [interval,time,Subject,cond,trial + 1,Task,main]\n",
    "                count += 1\n",
    "                "
   ]
  },
  {
   "cell_type": "code",
   "execution_count": 280,
   "metadata": {},
   "outputs": [],
   "source": [
    "df.to_csv(\"model.csv\", index = False)"
   ]
  },
  {
   "cell_type": "code",
   "execution_count": 281,
   "metadata": {},
   "outputs": [
    {
     "data": {
      "text/html": [
       "<div>\n",
       "<style scoped>\n",
       "    .dataframe tbody tr th:only-of-type {\n",
       "        vertical-align: middle;\n",
       "    }\n",
       "\n",
       "    .dataframe tbody tr th {\n",
       "        vertical-align: top;\n",
       "    }\n",
       "\n",
       "    .dataframe thead th {\n",
       "        text-align: right;\n",
       "    }\n",
       "</style>\n",
       "<table border=\"1\" class=\"dataframe\">\n",
       "  <thead>\n",
       "    <tr style=\"text-align: right;\">\n",
       "      <th></th>\n",
       "      <th>int</th>\n",
       "      <th>resp</th>\n",
       "      <th>Subject</th>\n",
       "      <th>Block</th>\n",
       "      <th>Run</th>\n",
       "      <th>Task</th>\n",
       "      <th>Main</th>\n",
       "    </tr>\n",
       "  </thead>\n",
       "  <tbody>\n",
       "    <tr>\n",
       "      <th>0</th>\n",
       "      <td>675.0</td>\n",
       "      <td>633.839657</td>\n",
       "      <td>1</td>\n",
       "      <td>Short Uniform</td>\n",
       "      <td>810</td>\n",
       "      <td>1</td>\n",
       "      <td>True</td>\n",
       "    </tr>\n",
       "    <tr>\n",
       "      <th>1</th>\n",
       "      <td>450.0</td>\n",
       "      <td>771.596219</td>\n",
       "      <td>1</td>\n",
       "      <td>Short Uniform</td>\n",
       "      <td>811</td>\n",
       "      <td>1</td>\n",
       "      <td>True</td>\n",
       "    </tr>\n",
       "    <tr>\n",
       "      <th>2</th>\n",
       "      <td>525.0</td>\n",
       "      <td>595.074608</td>\n",
       "      <td>1</td>\n",
       "      <td>Short Uniform</td>\n",
       "      <td>812</td>\n",
       "      <td>1</td>\n",
       "      <td>True</td>\n",
       "    </tr>\n",
       "    <tr>\n",
       "      <th>3</th>\n",
       "      <td>675.0</td>\n",
       "      <td>592.128610</td>\n",
       "      <td>1</td>\n",
       "      <td>Short Uniform</td>\n",
       "      <td>813</td>\n",
       "      <td>1</td>\n",
       "      <td>True</td>\n",
       "    </tr>\n",
       "    <tr>\n",
       "      <th>4</th>\n",
       "      <td>750.0</td>\n",
       "      <td>710.317972</td>\n",
       "      <td>1</td>\n",
       "      <td>Short Uniform</td>\n",
       "      <td>814</td>\n",
       "      <td>1</td>\n",
       "      <td>True</td>\n",
       "    </tr>\n",
       "  </tbody>\n",
       "</table>\n",
       "</div>"
      ],
      "text/plain": [
       "     int        resp Subject          Block  Run Task  Main\n",
       "0  675.0  633.839657       1  Short Uniform  810    1  True\n",
       "1  450.0  771.596219       1  Short Uniform  811    1  True\n",
       "2  525.0  595.074608       1  Short Uniform  812    1  True\n",
       "3  675.0  592.128610       1  Short Uniform  813    1  True\n",
       "4  750.0  710.317972       1  Short Uniform  814    1  True"
      ]
     },
     "execution_count": 281,
     "metadata": {},
     "output_type": "execute_result"
    }
   ],
   "source": [
    "df.head()"
   ]
  },
  {
   "cell_type": "code",
   "execution_count": 286,
   "metadata": {},
   "outputs": [],
   "source": [
    "#Plotting of the data found during the experiments for response bias values\n",
    "def plot_exp1(df, interval_1, interval_2):\n",
    "    df = df[df[\"Main\"] == True]\n",
    "    intervals = df[df[\"Block\"].isin([interval_1, interval_2])]\n",
    "\n",
    "    fig = plt.figure(figsize = (20, 7))\n",
    "    ax1 = fig.add_subplot(131)\n",
    "    ax2 = fig.add_subplot(132)\n",
    "\n",
    "    #Experiment for single subjects\n",
    "    first_subject = intervals[\"Subject\"].unique()[0]\n",
    "    X = intervals[intervals[\"Subject\"] == first_subject]\n",
    "\n",
    "    a1 = X[X[\"Block\"] == interval_1]    \n",
    "    a1 = a1.groupby([\"int\"])[\"resp\"].mean().reset_index()\n",
    "    a1[\"bias\"] = a1[\"resp\"] - a1[\"int\"]\n",
    "\n",
    "    a2 = X[X[\"Block\"] == interval_2]    \n",
    "    a2 = a2.groupby([\"int\"])[\"resp\"].mean().reset_index()\n",
    "    a2[\"bias\"] = a2[\"resp\"] - a2[\"int\"]\n",
    "\n",
    "    ax1.scatter(a1[\"int\"], a1[\"bias\"], s=50, c='firebrick', marker=\".\", label=interval_1)\n",
    "    ax1.scatter(a2[\"int\"], a2[\"bias\"], s=50, c='lawngreen', marker=\".\", label=interval_2)\n",
    "    ax1.axhline(y=0, color='gray', linestyle='-')\n",
    "    ax1.set(xlabel = \"Physical time interval (ms)\", ylabel = \"Response Bias (ms)\")\n",
    "    ax1.set_title(\"Single Subject\")\n",
    "\n",
    "    #Experiment for a group of subjects\n",
    "    a1 = intervals[intervals[\"Block\"] == interval_1]    \n",
    "    a1 = a1.groupby([\"int\"])[\"resp\"].mean().reset_index()\n",
    "    a1[\"bias\"] = a1[\"resp\"] - a1[\"int\"]\n",
    "\n",
    "    a2 = intervals[intervals[\"Block\"] == interval_2]    \n",
    "    a2 = a2.groupby([\"int\"])[\"resp\"].mean().reset_index()\n",
    "    a2[\"bias\"] = a2[\"resp\"] - a2[\"int\"]\n",
    "\n",
    "    ax2.scatter(a1[\"int\"], a1[\"bias\"], s=50, c='firebrick', marker=\".\", label=interval_1)\n",
    "    ax2.scatter(a2[\"int\"], a2[\"bias\"], s=50, c='lawngreen', marker=\".\", label=interval_2)\n",
    "    ax2.axhline(y=0, color='gray', linestyle='-')\n",
    "    ax2.set(xlabel = \"Physical time interval (ms)\", ylabel = \"Response Bias (ms)\")\n",
    "    ax2.set_title(\"Group Mean\")\n",
    "    \n",
    "    ax1.legend(loc='upper right')\n",
    "    ax2.legend(loc = 'upper right')\n",
    "    plt.show()"
   ]
  },
  {
   "cell_type": "code",
   "execution_count": 287,
   "metadata": {},
   "outputs": [],
   "source": [
    "#Plotting of the data found during the experiments for response standard deviation values\n",
    "def plot_exp2(df, interval_1, interval_2):\n",
    "    df = df[df[\"Main\"] == True]\n",
    "    intervals = df[df[\"Block\"].isin([interval_1, interval_2])]\n",
    "\n",
    "    fig = plt.figure(figsize = (20, 7))\n",
    "    ax1 = fig.add_subplot(131)\n",
    "    ax2 = fig.add_subplot(132)\n",
    "\n",
    "    #Experiment for single subjects\n",
    "    first_subject = intervals[\"Subject\"].unique()[0]\n",
    "    X = intervals[intervals[\"Subject\"] == first_subject]\n",
    "\n",
    "    a1 = X[X[\"Block\"] == interval_1]    \n",
    "    a1 = a1.groupby([\"int\"])[\"resp\"].std().reset_index()\n",
    "    a1[\"bias\"] =stdev(a1[\"resp\"] - a1[\"int\"])\n",
    "    \n",
    "    a2 = X[X[\"Block\"] == interval_2]    \n",
    "    a2 = a2.groupby([\"int\"])[\"resp\"].std().reset_index()\n",
    "    a2[\"bias\"] =stdev(a1[\"resp\"] - a1[\"int\"])\n",
    "    \n",
    "    ax1.scatter(a1[\"int\"], a1[\"bias\"], s=50, c='firebrick', marker=\".\", label=interval_1)\n",
    "    ax1.scatter(a2[\"int\"], a2[\"bias\"], s=50, c='lawngreen', marker=\".\", label=interval_2)\n",
    "    ax1.axhline(y=0, color='gray', linestyle='-')\n",
    "    ax1.set(xlabel = \"Physical time interval (ms)\", ylabel = \"Response sd (ms)\")\n",
    "    ax1.set_title(\"Single Subject\")\n",
    "\n",
    "    #Experiment for a group of subjects\n",
    "    a1 = intervals[intervals[\"Block\"] == interval_1]    \n",
    "    a1 = a1.groupby([\"int\"])[\"resp\"].std().reset_index()\n",
    "    a1[\"bias\"] =stdev(a1[\"resp\"] - a1[\"int\"])\n",
    "    \n",
    "    a2 = intervals[intervals[\"Block\"] == interval_2]    \n",
    "    a2 = a2.groupby([\"int\"])[\"resp\"].std().reset_index()\n",
    "    a2[\"bias\"] =stdev(a1[\"resp\"] - a1[\"int\"])\n",
    "    \n",
    "    ax2.scatter(a1[\"int\"], a1[\"bias\"], s=50, c='firebrick', marker=\".\", label=interval_1)\n",
    "    ax2.scatter(a2[\"int\"], a2[\"bias\"], s=50, c='lawngreen', marker=\".\", label=interval_2)\n",
    "    ax2.axhline(y=0, color='gray', linestyle='-')\n",
    "    ax2.set(xlabel = \"Physical time interval (ms)\", ylabel = \"Response sd (ms)\")\n",
    "    ax2.set_title(\"Group Mean\")\n",
    "    \n",
    "    ax1.legend(loc='center right')\n",
    "    ax2.legend(loc = 'center right')\n",
    "    plt.show()"
   ]
  },
  {
   "cell_type": "code",
   "execution_count": 288,
   "metadata": {},
   "outputs": [
    {
     "data": {
      "image/png": "[encoded data removed]",
      "text/plain": [
       "<Figure size 1440x504 with 2 Axes>"
      ]
     },
     "metadata": {
      "needs_background": "light"
     },
     "output_type": "display_data"
    },
    {
     "data": {
      "image/png": "[encoded data removed]",
      "text/plain": [
       "<Figure size 1440x504 with 2 Axes>"
      ]
     },
     "metadata": {
      "needs_background": "light"
     },
     "output_type": "display_data"
    }
   ],
   "source": [
    "plot_exp1(df, \"Short Uniform\", \"Long Uniform\")\n",
    "plot_exp2(df, \"Short Uniform\", \"Long Uniform\")"
   ]
  },
  {
   "cell_type": "code",
   "execution_count": 289,
   "metadata": {},
   "outputs": [
    {
     "data": {
      "image/png": "[encoded data removed]",
      "text/plain": [
       "<Figure size 1440x504 with 2 Axes>"
      ]
     },
     "metadata": {
      "needs_background": "light"
     },
     "output_type": "display_data"
    },
    {
     "data": {
      "image/png": "[encoded data removed]",
      "text/plain": [
       "<Figure size 1440x504 with 2 Axes>"
      ]
     },
     "metadata": {
      "needs_background": "light"
     },
     "output_type": "display_data"
    }
   ],
   "source": [
    "plot_exp1(df, \"Uniform\", \"Peaked\")\n",
    "plot_exp2(df, \"Uniform\", \"Peaked\")"
   ]
  },
  {
   "cell_type": "code",
   "execution_count": null,
   "metadata": {},
   "outputs": [],
   "source": [
    "#I tried using the standard deviation mean but it vary from -80 to 100 so it didnt make much sense compared to the Acerbi\n",
    "#experiment, so I left it as the mean standard deviation "
   ]
  }
 ],
 "metadata": {
  "kernelspec": {
   "display_name": "Python 3",
   "language": "python",
   "name": "python3"
  },
  "language_info": {
   "codemirror_mode": {
    "name": "ipython",
    "version": 3
   },
   "file_extension": ".py",
   "mimetype": "text/x-python",
   "name": "python",
   "nbconvert_exporter": "python",
   "pygments_lexer": "ipython3",
   "version": "3.8.3"
  }
 },
 "nbformat": 4,
 "nbformat_minor": 4
}
