{
 "cells": [
  {
   "cell_type": "markdown",
   "metadata": {},
   "source": [
    "# Cognitive Modelling: Final Project\n",
    "## Part 1\n",
    "\n",
    "Name: Vishal Sreenivasan\n",
    "Student No: S4196392"
   ]
  },
  {
   "cell_type": "markdown",
   "metadata": {},
   "source": [
    "# Importing Libraries"
   ]
  },
  {
   "cell_type": "code",
   "execution_count": 1,
   "metadata": {},
   "outputs": [],
   "source": [
    "from model import Model\n",
    "from dmchunk import Chunk\n",
    "import matplotlib.pyplot as plt\n",
    "import pandas as pd\n",
    "import numpy as np\n",
    "import math"
   ]
  },
  {
   "cell_type": "markdown",
   "metadata": {},
   "source": [
    "# Conversion functions"
   ]
  },
  {
   "cell_type": "code",
   "execution_count": 2,
   "metadata": {},
   "outputs": [],
   "source": [
    "def noise(s):\n",
    "    rand = np.random.uniform(0.001,0.999)\n",
    "    return s * math.log((1 - rand)/rand)\n",
    "\n",
    "def time_to_pulses(time, t_0 = 0.011, a = 1.1, b = 0.015):\n",
    "    pulses = 0\n",
    "    pulse_duration = t_0\n",
    "    while time >= pulse_duration:\n",
    "        time = time - pulse_duration\n",
    "        pulses += 1\n",
    "        pulse_duration = a * pulse_duration + noise(b * a * pulse_duration)\n",
    "    return pulses\n",
    "\n",
    "def pulses_to_time(pulses, t_0 = 0.011, a = 1.1, b = 0.015):\n",
    "    time = 0\n",
    "    pulse_duration = t_0\n",
    "    while pulses > 0:\n",
    "        time = time + pulse_duration\n",
    "        pulses = pulses - 1\n",
    "        pulse_duration = a * pulse_duration + noise(b * a * pulse_duration)\n",
    "    return time\n",
    "\n",
    "def feedback(r, x):\n",
    "     return ((r - x) / r) ** 2"
   ]
  },
  {
   "cell_type": "markdown",
   "metadata": {},
   "source": [
    "# Acerbi Model"
   ]
  },
  {
   "cell_type": "code",
   "execution_count": 3,
   "metadata": {},
   "outputs": [],
   "source": [
    "def acerbi(n_participants):\n",
    "\n",
    "    df = pd.DataFrame(columns = [\"int\", \"resp\", \"probs\", \"feedback\", \"Subject\", \"Block\", \"Run\", \"Task\", \"Main\"])\n",
    "\n",
    "    short_intervals = np.linspace(450, 825, num = 6)\n",
    "    medium_intervals = np.linspace(600, 975, num = 6)\n",
    "    long_intervals = np.linspace(750, 1125, num = 6)\n",
    "\n",
    "    prob = {\"Short Uniform\": [1/6, 1/6, 1/6, 1/6, 1/6, 1/6],\n",
    "            \"Long Uniform\": [1/6, 1/6, 1/6, 1/6, 1/6, 1/6],\n",
    "            \"Medium Uniform\": [1/6, 1/6, 1/6, 1/6, 1/6, 1/6],\n",
    "            \"Medium spiked\": [1/12, 7/12, 1/12, 1/12, 1/12, 1/12]}\n",
    "    \n",
    "    for subj in range(n_participants):\n",
    "        \n",
    "        if subj < 4:\n",
    "            conditions = {\"Short Uniform\": short_intervals,\n",
    "                          \"Long Uniform\": long_intervals}\n",
    "            task = 1\n",
    "        \n",
    "        else:\n",
    "            conditions = {\"Medium Uniform\": medium_intervals,\n",
    "                          \"Medium spiked\": medium_intervals}\n",
    "            task = 2\n",
    "            \n",
    "        for cond in conditions:\n",
    "            m = Model()\n",
    "            main = False\n",
    "            \n",
    "            #trial session\n",
    "            train = np.random.randint(500, 1500)\n",
    "            \n",
    "            #2 test sessions\n",
    "            test = train + 1000\n",
    "            \n",
    "            for trial in range(test):\n",
    "                #initial 1s\n",
    "                m.time += 1\n",
    "                \n",
    "                #random delay\n",
    "                delay = np.random.uniform(0.25, 1)\n",
    "                m.time += delay\n",
    "\n",
    "                #interval\n",
    "                interval = np.random.choice(conditions[cond], p = prob[cond])\n",
    "                m.time += interval /1000\n",
    "                pulses = time_to_pulses(interval / 1000)\n",
    "                \n",
    "                #Appearance of yellow dot\n",
    "                m.time += 0.0185\n",
    "                \n",
    "                #Chunk is stored in DM\n",
    "                chunk = Chunk(name = f\"pulse{pulses}\", slots = {\"isa\" : \"time\", \"pulses\": pulses})\n",
    "                m.add_encounter(chunk)\n",
    "                \n",
    "                #wait of 250ms\n",
    "                m.time += 0.25\n",
    "                \n",
    "                #reproduction of time interval\n",
    "                pattern = Chunk(name = \"retrieve\", slots = {\"isa\": \"time\"})\n",
    "                chunk, latency = m.retrieve_blended_trace(pattern, \"slot\")\n",
    "                \n",
    "                time = pulses_to_time(chunk)\n",
    "                m.time += time\n",
    "                \n",
    "                #delay of 450ms-850ms before feedback\n",
    "                m.time += np.random.uniform(0.45, 0.85)\n",
    "                \n",
    "                #feedback\n",
    "                fb = feedback(interval, time * 1000) * 1000\n",
    "                \n",
    "                #feedback display of 62ms\n",
    "                m.time += 0.062\n",
    "                \n",
    "                #fixation cross\n",
    "                m.time += np.random.uniform(0.5, 0.75)\n",
    "                \n",
    "                #black screen\n",
    "                m.time += np.random.uniform(0.5, 0.75)\n",
    "                \n",
    "                #training sessions are recorded\n",
    "                if trial > train:\n",
    "                    main = True\n",
    "                \n",
    "                    df = df.append({\"int\": interval,\n",
    "                                    \"resp\": time * 1000,\n",
    "                                    \"feedback\": fb,\n",
    "                                    \"Subject\": subj + 1,\n",
    "                                    \"Block\": cond,\n",
    "                                    \"Run\": trial + 1,\n",
    "                                    \"Task\": task,\n",
    "                                    \"Main\": main}, ignore_index = True)\n",
    "    return df"
   ]
  },
  {
   "cell_type": "code",
   "execution_count": 4,
   "metadata": {},
   "outputs": [],
   "source": [
    "df = acerbi(10)"
   ]
  },
  {
   "cell_type": "code",
   "execution_count": 5,
   "metadata": {},
   "outputs": [],
   "source": [
    "df.to_csv(\"acerbi.csv\", index = False)"
   ]
  },
  {
   "cell_type": "markdown",
   "metadata": {},
   "source": [
    "# Plot function"
   ]
  },
  {
   "cell_type": "code",
   "execution_count": 7,
   "metadata": {},
   "outputs": [],
   "source": [
    "def plot_data(df, cond_A, cond_B):\n",
    "    df = df[df[\"Main\"] == True]\n",
    "    intervals = df[df[\"Block\"].isin([cond_A, cond_B])]\n",
    "\n",
    "    fig = plt.figure(figsize = (12, 5))\n",
    "    ax1 = fig.add_subplot(121)\n",
    "    ax2 = fig.add_subplot(122)\n",
    "\n",
    "    #single subject\n",
    "    first_subject = intervals[\"Subject\"].unique()[0]\n",
    "    X = intervals[intervals[\"Subject\"] == first_subject]\n",
    "\n",
    "    a1 = X[X[\"Block\"] == cond_A]    \n",
    "    a1 = a1.groupby([\"int\"])[\"resp\"].mean().reset_index()\n",
    "    a1[\"bias\"] = a1[\"resp\"] - a1[\"int\"]\n",
    "\n",
    "    a2 = X[X[\"Block\"] == cond_B]    \n",
    "    a2 = a2.groupby([\"int\"])[\"resp\"].mean().reset_index()\n",
    "    a2[\"bias\"] = a2[\"resp\"] - a2[\"int\"]\n",
    "\n",
    "    ax1.scatter(a1[\"int\"], a1[\"bias\"], s=10, c='r', marker=\"o\", label=cond_A)\n",
    "    ax1.scatter(a2[\"int\"], a2[\"bias\"], s=10, c='g', marker=\"o\", label=cond_B)\n",
    "    ax1.axhline(y=0, color='gray', linestyle='-')\n",
    "    ax1.set(xlabel = \"Physical Time Interval (ms)\", ylabel = \"Response Bias (ms)\")\n",
    "    ax1.set_title(\"Single Subject\")\n",
    "\n",
    "    #group\n",
    "    a1 = intervals[intervals[\"Block\"] == cond_A]    \n",
    "    a1 = a1.groupby([\"int\"])[\"resp\"].mean().reset_index()\n",
    "    a1[\"bias\"] = a1[\"resp\"] - a1[\"int\"]\n",
    "\n",
    "    a2 = intervals[intervals[\"Block\"] == cond_B]    \n",
    "    a2 = a2.groupby([\"int\"])[\"resp\"].mean().reset_index()\n",
    "    a2[\"bias\"] = a2[\"resp\"] - a2[\"int\"]\n",
    "\n",
    "    ax2.scatter(a1[\"int\"], a1[\"bias\"], s=10, c='r', marker=\"o\", label=cond_A)\n",
    "    ax2.scatter(a2[\"int\"], a2[\"bias\"], s=10, c='g', marker=\"o\", label=cond_B)\n",
    "    ax2.axhline(y=0, color='gray', linestyle='-')\n",
    "    ax2.set(xlabel = \"Physical Time Interval (ms)\", ylabel = \"Response Bias (ms)\")\n",
    "    ax2.set_title(\"Group Mean\")\n",
    "    \n",
    "    ax1.legend(loc='upper right')\n",
    "    ax2.legend(loc = 'upper right')\n",
    "    plt.savefig(f\"acerbi_{cond_A[0]}{cond_B[0]}.png\")\n",
    "    plt.show()"
   ]
  },
  {
   "cell_type": "markdown",
   "metadata": {},
   "source": [
    "# Plot of Short and Long Uniform distributions"
   ]
  },
  {
   "cell_type": "code",
   "execution_count": 8,
   "metadata": {
    "scrolled": true
   },
   "outputs": [
    {
     "data": {
      "image/png": "[encoded data removed]",
      "text/plain": [
       "<Figure size 864x360 with 2 Axes>"
      ]
     },
     "metadata": {
      "needs_background": "light"
     },
     "output_type": "display_data"
    }
   ],
   "source": [
    "plot_data(df, \"Short Uniform\", \"Long Uniform\")"
   ]
  },
  {
   "cell_type": "markdown",
   "metadata": {},
   "source": [
    "# Plot of Medium Uniform and Medium Peaked distributions"
   ]
  },
  {
   "cell_type": "code",
   "execution_count": 9,
   "metadata": {},
   "outputs": [
    {
     "data": {
      "image/png": "[encoded data removed]",
      "text/plain": [
       "<Figure size 864x360 with 2 Axes>"
      ]
     },
     "metadata": {
      "needs_background": "light"
     },
     "output_type": "display_data"
    }
   ],
   "source": [
    "plot_data(df, \"Medium Uniform\", \"Medium spiked\")"
   ]
  }
 ],
 "metadata": {
  "kernelspec": {
   "display_name": "Python 3",
   "language": "python",
   "name": "python3"
  },
  "language_info": {
   "codemirror_mode": {
    "name": "ipython",
    "version": 3
   },
   "file_extension": ".py",
   "mimetype": "text/x-python",
   "name": "python",
   "nbconvert_exporter": "python",
   "pygments_lexer": "ipython3",
   "version": "3.8.3"
  }
 },
 "nbformat": 4,
 "nbformat_minor": 4
}
