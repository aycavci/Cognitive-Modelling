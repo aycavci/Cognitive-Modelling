{
 "cells": [
  {
   "cell_type": "code",
   "execution_count": 1,
   "metadata": {},
   "outputs": [],
   "source": [
    "import matplotlib.pyplot as plt\n",
    "import pandas as pd"
   ]
  },
  {
   "cell_type": "code",
   "execution_count": 2,
   "metadata": {},
   "outputs": [],
   "source": [
    "df = pd.read_csv(\"AllData.csv\")"
   ]
  },
  {
   "cell_type": "code",
   "execution_count": 3,
   "metadata": {},
   "outputs": [
    {
     "data": {
      "text/html": [
       "<div>\n",
       "<style scoped>\n",
       "    .dataframe tbody tr th:only-of-type {\n",
       "        vertical-align: middle;\n",
       "    }\n",
       "\n",
       "    .dataframe tbody tr th {\n",
       "        vertical-align: top;\n",
       "    }\n",
       "\n",
       "    .dataframe thead th {\n",
       "        text-align: right;\n",
       "    }\n",
       "</style>\n",
       "<table border=\"1\" class=\"dataframe\">\n",
       "  <thead>\n",
       "    <tr style=\"text-align: right;\">\n",
       "      <th></th>\n",
       "      <th>int</th>\n",
       "      <th>resp</th>\n",
       "      <th>stim</th>\n",
       "      <th>hit</th>\n",
       "      <th>frac</th>\n",
       "      <th>feedback</th>\n",
       "      <th>Subject</th>\n",
       "      <th>Block</th>\n",
       "      <th>Session</th>\n",
       "      <th>Run</th>\n",
       "      <th>Task</th>\n",
       "    </tr>\n",
       "  </thead>\n",
       "  <tbody>\n",
       "    <tr>\n",
       "      <th>0</th>\n",
       "      <td>0.597781</td>\n",
       "      <td>0.524162</td>\n",
       "      <td>3.0</td>\n",
       "      <td>1.0</td>\n",
       "      <td>0.150</td>\n",
       "      <td>-56.180664</td>\n",
       "      <td>1</td>\n",
       "      <td>Short Uniform</td>\n",
       "      <td>1</td>\n",
       "      <td>1</td>\n",
       "      <td>1</td>\n",
       "    </tr>\n",
       "    <tr>\n",
       "      <th>1</th>\n",
       "      <td>0.598645</td>\n",
       "      <td>0.612007</td>\n",
       "      <td>3.0</td>\n",
       "      <td>1.0</td>\n",
       "      <td>0.135</td>\n",
       "      <td>8.733084</td>\n",
       "      <td>1</td>\n",
       "      <td>Short Uniform</td>\n",
       "      <td>1</td>\n",
       "      <td>1</td>\n",
       "      <td>1</td>\n",
       "    </tr>\n",
       "    <tr>\n",
       "      <th>2</th>\n",
       "      <td>0.448375</td>\n",
       "      <td>0.469902</td>\n",
       "      <td>1.0</td>\n",
       "      <td>1.0</td>\n",
       "      <td>0.120</td>\n",
       "      <td>18.324952</td>\n",
       "      <td>1</td>\n",
       "      <td>Short Uniform</td>\n",
       "      <td>1</td>\n",
       "      <td>1</td>\n",
       "      <td>1</td>\n",
       "    </tr>\n",
       "    <tr>\n",
       "      <th>3</th>\n",
       "      <td>0.827241</td>\n",
       "      <td>0.687987</td>\n",
       "      <td>6.0</td>\n",
       "      <td>0.0</td>\n",
       "      <td>0.105</td>\n",
       "      <td>-80.962945</td>\n",
       "      <td>1</td>\n",
       "      <td>Short Uniform</td>\n",
       "      <td>1</td>\n",
       "      <td>1</td>\n",
       "      <td>1</td>\n",
       "    </tr>\n",
       "    <tr>\n",
       "      <th>4</th>\n",
       "      <td>0.597683</td>\n",
       "      <td>0.626022</td>\n",
       "      <td>3.0</td>\n",
       "      <td>1.0</td>\n",
       "      <td>0.120</td>\n",
       "      <td>18.107234</td>\n",
       "      <td>1</td>\n",
       "      <td>Short Uniform</td>\n",
       "      <td>1</td>\n",
       "      <td>1</td>\n",
       "      <td>1</td>\n",
       "    </tr>\n",
       "  </tbody>\n",
       "</table>\n",
       "</div>"
      ],
      "text/plain": [
       "        int      resp  stim  hit   frac   feedback  Subject          Block  \\\n",
       "0  0.597781  0.524162   3.0  1.0  0.150 -56.180664        1  Short Uniform   \n",
       "1  0.598645  0.612007   3.0  1.0  0.135   8.733084        1  Short Uniform   \n",
       "2  0.448375  0.469902   1.0  1.0  0.120  18.324952        1  Short Uniform   \n",
       "3  0.827241  0.687987   6.0  0.0  0.105 -80.962945        1  Short Uniform   \n",
       "4  0.597683  0.626022   3.0  1.0  0.120  18.107234        1  Short Uniform   \n",
       "\n",
       "   Session  Run  Task  \n",
       "0        1    1     1  \n",
       "1        1    1     1  \n",
       "2        1    1     1  \n",
       "3        1    1     1  \n",
       "4        1    1     1  "
      ]
     },
     "execution_count": 3,
     "metadata": {},
     "output_type": "execute_result"
    }
   ],
   "source": [
    "df.head()"
   ]
  },
  {
   "cell_type": "code",
   "execution_count": 6,
   "metadata": {},
   "outputs": [
    {
     "data": {
      "text/plain": [
       "array([1, 2, 3, 4, 5], dtype=int64)"
      ]
     },
     "execution_count": 6,
     "metadata": {},
     "output_type": "execute_result"
    }
   ],
   "source": [
    "df[\"Session\"].unique()"
   ]
  },
  {
   "cell_type": "code",
   "execution_count": 70,
   "metadata": {},
   "outputs": [],
   "source": [
    "intervals = df[df[\"Block\"].isin([\"Short Uniform\", \"Long Uniform\"])]\n",
    "intervals = intervals.round({\"int\": 2})"
   ]
  },
  {
   "cell_type": "code",
   "execution_count": 75,
   "metadata": {},
   "outputs": [],
   "source": [
    "short = intervals[intervals[\"Block\"] == \"Short Uniform\"]\n",
    "long = intervals[intervals[\"Block\"] == \"Long Uniform\"]"
   ]
  },
  {
   "cell_type": "code",
   "execution_count": 77,
   "metadata": {},
   "outputs": [],
   "source": [
    "g = short.groupby([\"int\"])[\"resp\"].mean().reset_index() * 1000\n",
    "g[\"bias\"] = g[\"resp\"] - g[\"int\"]"
   ]
  },
  {
   "cell_type": "code",
   "execution_count": 80,
   "metadata": {},
   "outputs": [],
   "source": [
    "h = long.groupby([\"int\"])[\"resp\"].mean().reset_index() * 1000\n",
    "h[\"bias\"] = h[\"resp\"] - h[\"int\"]"
   ]
  },
  {
   "cell_type": "code",
   "execution_count": 79,
   "metadata": {
    "scrolled": true
   },
   "outputs": [
    {
     "data": {
      "text/plain": [
       "Text(0, 0.5, 'bias')"
      ]
     },
     "execution_count": 79,
     "metadata": {},
     "output_type": "execute_result"
    },
    {
     "data": {
      "image/png": "[encoded data removed]",
      "text/plain": [
       "<Figure size 432x288 with 1 Axes>"
      ]
     },
     "metadata": {
      "needs_background": "light"
     },
     "output_type": "display_data"
    }
   ],
   "source": [
    "plt.scatter(g[\"int\"], g[\"bias\"])\n",
    "plt.axhline(y=0, color='b', linestyle='-')\n",
    "plt.xlabel(\"intervals\")\n",
    "plt.ylabel(\"bias\")"
   ]
  },
  {
   "cell_type": "code",
   "execution_count": 90,
   "metadata": {
    "scrolled": true
   },
   "outputs": [
    {
     "data": {
      "image/png": "[encoded data removed]",
      "text/plain": [
       "<Figure size 432x288 with 1 Axes>"
      ]
     },
     "metadata": {
      "needs_background": "light"
     },
     "output_type": "display_data"
    }
   ],
   "source": [
    "x = range(100)\n",
    "y = range(100,200)\n",
    "fig = plt.figure()\n",
    "ax1 = fig.add_subplot(111)\n",
    "\n",
    "ax1.scatter(g[\"int\"], g[\"bias\"], s=10, c='r', marker=\"o\", label='short')\n",
    "ax1.scatter(h[\"int\"], h[\"bias\"], s=10, c='g', marker=\"o\", label='long')\n",
    "plt.axhline(y=0, color='gray', linestyle='-')\n",
    "plt.legend(loc='upper left');\n",
    "plt.xlabel(\"Physical Time Interval (ms)\")\n",
    "plt.ylabel(\"Response Bias (ms)\")\n",
    "plt.show()"
   ]
  }
 ],
 "metadata": {
  "kernelspec": {
   "display_name": "Python 3",
   "language": "python",
   "name": "python3"
  },
  "language_info": {
   "codemirror_mode": {
    "name": "ipython",
    "version": 3
   },
   "file_extension": ".py",
   "mimetype": "text/x-python",
   "name": "python",
   "nbconvert_exporter": "python",
   "pygments_lexer": "ipython3",
   "version": "3.8.3"
  }
 },
 "nbformat": 4,
 "nbformat_minor": 4
}
