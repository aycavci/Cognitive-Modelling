{
 "cells": [
  {
   "cell_type": "markdown",
   "metadata": {},
   "source": [
    "<h1>Grosjean et al. experiment</h1>"
   ]
  },
  {
   "cell_type": "code",
   "execution_count": 1,
   "metadata": {},
   "outputs": [],
   "source": [
    "import math\n",
    "import random\n",
    "import pandas as pd\n",
    "import numpy as np\n",
    "import matplotlib.pyplot as plt\n",
    "from statistics import mean"
   ]
  },
  {
   "cell_type": "code",
   "execution_count": 2,
   "metadata": {},
   "outputs": [],
   "source": [
    "def noise(s):\n",
    "    rand = random.uniform(0.001, 0.999)\n",
    "    return s * math.log((1 - rand)/rand)"
   ]
  },
  {
   "cell_type": "code",
   "execution_count": 3,
   "metadata": {},
   "outputs": [],
   "source": [
    "def time_to_pulses(time, t_0 = 0.011, a = 1.1, b = 0.015):\n",
    "    pulses = 0\n",
    "    pulse_duration = t_0\n",
    "    while time >= pulse_duration:\n",
    "        time = time - pulse_duration\n",
    "        pulses += 1\n",
    "        pulse_duration = a * pulse_duration + noise(b * a * pulse_duration)\n",
    "    return pulses"
   ]
  },
  {
   "cell_type": "code",
   "execution_count": 4,
   "metadata": {},
   "outputs": [],
   "source": [
    "def pulses_to_time(pulses, t_0 = 0.011, a = 1.1, b = 0.015):\n",
    "    time = 0\n",
    "    pulse_duration = t_0\n",
    "    while pulses > 0:\n",
    "        time = time + pulse_duration\n",
    "        pulses = pulses - 1\n",
    "        pulse_duration = a * pulse_duration + noise(b * a * pulse_duration)\n",
    "    return time"
   ]
  },
  {
   "cell_type": "markdown",
   "metadata": {},
   "source": [
    "Function for \"Lengthened\" graph. \"rt\" represents the list that response times are saved and \"pulses\" is a list that contains every pulse calculated in each trail."
   ]
  },
  {
   "cell_type": "code",
   "execution_count": 5,
   "metadata": {},
   "outputs": [],
   "source": [
    "def lengthened():\n",
    "    pulses = []\n",
    "    rt = []\n",
    "    for i in range(16):\n",
    "        if i == 15:\n",
    "            # converts time to pulses. For trail 16, 467 ms is used as stimulus time.\n",
    "            pulse = time_to_pulses(0.467)\n",
    "            pulses.append(pulse)\n",
    "            # calculates expectation by taking the mean of the pulses saved (for trial n, it calulates the average pulse\n",
    "            # pulse_1 + ... pulse_n-1 and converts it to the time by using pulses_to_time() function).\n",
    "            expectation = pulses_to_time(mean(pulses[:i]))\n",
    "            # stimulus is actually 467 ms, but I thought that it is a more convenient way to convert is to pulse and then again\n",
    "            # to time since model only saves the pulses, not the time.\n",
    "            stimulus = pulses_to_time(pulse)\n",
    "            # preparation is calculated as absolute value of difference between expectation (average of previous pulses) and\n",
    "            # stimulus.\n",
    "            preparation = abs(expectation-stimulus)\n",
    "            if expectation < stimulus:\n",
    "                if preparation > 0.05:\n",
    "                    # if expectation is before compared to stimulus and preparation is bigger than 50 ms, response_time is 0.41\n",
    "                    # (default reaction time) - 50 ms.\n",
    "                    response_time = 0.41 - 0.05\n",
    "                else:\n",
    "                    # if expectation is before compared to stimulus and preparation is smaller than 50 ms, response_time is 0.41\n",
    "                    # (default reaction time) - preparation.\n",
    "                    response_time = 0.41 - preparation\n",
    "                rt.append(response_time)\n",
    "            # if expectation is after compared to stimulus, there is no preparation, hence response_time is 0.41\n",
    "            # (default reaction time).\n",
    "            else:\n",
    "                rt.append(0.41)\n",
    "        else:\n",
    "            # this part is for the trials 1-15. 350 ms is used as stimulus time.\n",
    "            pulse = time_to_pulses(0.35)\n",
    "            pulses.append(pulse)\n",
    "            stimulus = pulses_to_time(pulse)\n",
    "            if i == 0:\n",
    "                # since there is no prior trail at this moment, expectation is calculated by the current pulse.\n",
    "                expectation = pulses_to_time(mean(pulses))\n",
    "            else:\n",
    "                expectation = pulses_to_time(mean(pulses[:i]))\n",
    "            preparation = abs(expectation-stimulus)\n",
    "            if expectation < stimulus:\n",
    "                if preparation > 0.05:\n",
    "                    response_time = 0.41 - 0.05\n",
    "                else:\n",
    "                    response_time = 0.41 - preparation\n",
    "                rt.append(response_time)\n",
    "            else:\n",
    "                rt.append(0.41)\n",
    "\n",
    "    return rt"
   ]
  },
  {
   "cell_type": "markdown",
   "metadata": {},
   "source": [
    "Function for \"Shortened\" graph."
   ]
  },
  {
   "cell_type": "code",
   "execution_count": 6,
   "metadata": {},
   "outputs": [],
   "source": [
    "def shortened():\n",
    "    pulses = list()\n",
    "    rt = list()\n",
    "    for i in range(16):\n",
    "        # For trail 16, 467 ms is used as stimulus time.\n",
    "        if i == 15:\n",
    "            pulse = time_to_pulses(0.467)\n",
    "            pulses.append(pulse)\n",
    "            expectation = pulses_to_time(mean(pulses[:i]))\n",
    "            stimulus = pulses_to_time(time_to_pulses(0.467))\n",
    "            preparation = abs(expectation-stimulus)\n",
    "            if expectation < stimulus:\n",
    "                if abs(expectation - stimulus) > 0.05:\n",
    "                    response_time = 0.41 - 0.05\n",
    "                else:\n",
    "                    response_time = 0.41 - abs(expectation - stimulus)\n",
    "                rt.append(response_time)\n",
    "            else:\n",
    "                rt.append(0.41)\n",
    "        # this part is for the trials 1-15. 700 ms is used as stimulus time.\n",
    "        else:\n",
    "            pulse = time_to_pulses(0.7)\n",
    "            pulses.append(pulse)\n",
    "            stimulus = pulses_to_time(time_to_pulses(0.7))\n",
    "            if i == 0:\n",
    "                expectation = pulses_to_time(mean(pulses))\n",
    "            else:\n",
    "                expectation = pulses_to_time(mean(pulses[:i]))\n",
    "            preparation = abs(expectation-stimulus)\n",
    "            if expectation < stimulus:\n",
    "                if preparation > 0.05:\n",
    "                    response_time = 0.41 - 0.05\n",
    "                else:\n",
    "                    response_time = 0.41 - preparation\n",
    "                rt.append(response_time)\n",
    "            else:\n",
    "                rt.append(0.41)\n",
    "                \n",
    "    return rt"
   ]
  },
  {
   "cell_type": "markdown",
   "metadata": {},
   "source": [
    "Function for \"Constant\" graph."
   ]
  },
  {
   "cell_type": "code",
   "execution_count": 7,
   "metadata": {},
   "outputs": [],
   "source": [
    "def constant():\n",
    "    pulses = list()\n",
    "    rt = list()\n",
    "    # For all trials, 467 ms used as stimulus time.\n",
    "    for i in range(16):\n",
    "        pulse = time_to_pulses(0.467)\n",
    "        pulses.append(pulse)\n",
    "        stimulus = pulses_to_time(time_to_pulses(0.467))\n",
    "        if i == 0:\n",
    "            expectation = pulses_to_time(mean(pulses))\n",
    "        else:\n",
    "            expectation = pulses_to_time(mean(pulses[:i]))\n",
    "        preparation = abs(expectation-stimulus)\n",
    "        if expectation < stimulus:\n",
    "            if preparation > 0.05:\n",
    "                response_time = 0.41 - 0.05\n",
    "            else:\n",
    "                response_time = 0.41 - preparation\n",
    "            rt.append(response_time)\n",
    "        else:\n",
    "            rt.append(0.41)\n",
    "\n",
    "    return rt"
   ]
  },
  {
   "cell_type": "markdown",
   "metadata": {},
   "source": [
    "trials() function runs trials (1-16) for subjects, then it takes the average of response times in each trail for each subject (e.g. by summing response times from trial #x for each subject and dividing it to # of subjects). It only returns the average of trials 6-16 for plotting as in the paper."
   ]
  },
  {
   "cell_type": "code",
   "execution_count": 8,
   "metadata": {},
   "outputs": [],
   "source": [
    "def trials(subjects, experiment_type=\"constant\"):\n",
    "    dic = dict()\n",
    "    lst = list()\n",
    "    \n",
    "    for i in range(subjects):\n",
    "        if experiment_type == \"lengthened\":\n",
    "            rt = lengthened()\n",
    "        elif experiment_type == \"shortened\":\n",
    "            rt = shortened()\n",
    "        else:\n",
    "            rt = constant()\n",
    "        \n",
    "        for i, r in enumerate(rt):\n",
    "            if i in dic.keys():\n",
    "                dic[i] += r/subjects\n",
    "            else:\n",
    "                dic[i] = r/subjects\n",
    "                \n",
    "    for key, value in dic.items():\n",
    "        lst.append(value)\n",
    "\n",
    "    return lst[-11:]"
   ]
  },
  {
   "cell_type": "markdown",
   "metadata": {},
   "source": [
    "plot() function plots the graph for each experiment namely \"Lengthened\", \"Shortened\" and \"Constant\"."
   ]
  },
  {
   "cell_type": "code",
   "execution_count": 9,
   "metadata": {},
   "outputs": [],
   "source": [
    "def plot(y_coordinates, title, x_coordinates = [i for i in range (6, 17)]):\n",
    "    plt.title(title)\n",
    "    \n",
    "    plt.xlabel(\"Number of trials\")\n",
    "    plt.ylabel(\"Response time (sec)\")\n",
    "    \n",
    "    plt.ylim((0.35, 0.42))\n",
    "    \n",
    "    plt.scatter(x_coordinates, y_coordinates)\n",
    "    plt.plot(x_coordinates, y_coordinates)"
   ]
  },
  {
   "cell_type": "markdown",
   "metadata": {},
   "source": [
    "Graph for \"Lengthened\" for 1000 subjects."
   ]
  },
  {
   "cell_type": "code",
   "execution_count": 10,
   "metadata": {},
   "outputs": [
    {
     "data": {
      "image/png": "[encoded data removed]",
      "text/plain": [
       "<Figure size 432x288 with 1 Axes>"
      ]
     },
     "metadata": {
      "needs_background": "light"
     },
     "output_type": "display_data"
    }
   ],
   "source": [
    "plot(trials(1000, \"lengthened\"), \"Lengthened\")"
   ]
  },
  {
   "cell_type": "markdown",
   "metadata": {},
   "source": [
    "Graph for \"Shortened\" for 1000 subjects."
   ]
  },
  {
   "cell_type": "code",
   "execution_count": 11,
   "metadata": {},
   "outputs": [
    {
     "data": {
      "image/png": "[encoded data removed]",
      "text/plain": [
       "<Figure size 432x288 with 1 Axes>"
      ]
     },
     "metadata": {
      "needs_background": "light"
     },
     "output_type": "display_data"
    }
   ],
   "source": [
    "plot(trials(1000, \"shortened\"), \"Shortened\")"
   ]
  },
  {
   "cell_type": "markdown",
   "metadata": {},
   "source": [
    "Graph for \"Constant\" for 1000 subjects."
   ]
  },
  {
   "cell_type": "code",
   "execution_count": 12,
   "metadata": {},
   "outputs": [
    {
     "data": {
      "image/png": "[encoded data removed]",
      "text/plain": [
       "<Figure size 432x288 with 1 Axes>"
      ]
     },
     "metadata": {
      "needs_background": "light"
     },
     "output_type": "display_data"
    }
   ],
   "source": [
    "plot(trials(1000), \"Constant\")"
   ]
  },
  {
   "cell_type": "markdown",
   "metadata": {},
   "source": [
    "I realized that in my each graph, for the parts that should be kind of constant (for the first 6-15 trials, reaction time is around 0.37 sec for each graph in the lecture slides and the paper), mines are around 0.39-0.4 sec. I believe that my graphs still represents/replicates the findings in the paper even though better fit for the results might have been achieved. I could not find a generic way to achieve that instead of subtracting 50 ms from the expectation by default before calculating the reaction time, which if I do, I am getting better fit actually, but by hardcoding. So, I left this option out. One interesting way to achieve that might be saving preparation time for each trial, and subtracting it from the expectation of next trail beforehand (e.g. for trial n, reaction time would be *reaction_time = 0.41 - preparation_n - preparation_n-1* if expectation is before stimulus and preparation is smaller than 50 ms. This approach is also applicable for other conditions). Due to an error I got, I could not include that part in the code."
   ]
  }
 ],
 "metadata": {
  "kernelspec": {
   "display_name": "Python 3",
   "language": "python",
   "name": "python3"
  },
  "language_info": {
   "codemirror_mode": {
    "name": "ipython",
    "version": 3
   },
   "file_extension": ".py",
   "mimetype": "text/x-python",
   "name": "python",
   "nbconvert_exporter": "python",
   "pygments_lexer": "ipython3",
   "version": "3.9.7"
  }
 },
 "nbformat": 4,
 "nbformat_minor": 2
}
