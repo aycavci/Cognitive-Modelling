{
 "cells": [
  {
   "cell_type": "markdown",
   "metadata": {},
   "source": [
    "<h1>Los et al. experiment</h1>"
   ]
  },
  {
   "cell_type": "code",
   "execution_count": 1,
   "metadata": {},
   "outputs": [],
   "source": [
    "import math\n",
    "import random\n",
    "from model import Model\n",
    "from dmchunk import Chunk\n",
    "import pandas as pd\n",
    "import numpy as np\n",
    "import matplotlib.pyplot as plt"
   ]
  },
  {
   "cell_type": "code",
   "execution_count": 2,
   "metadata": {},
   "outputs": [],
   "source": [
    "def noise(s):\n",
    "    rand = random.uniform(0.001, 0.999)\n",
    "    return s * math.log((1 - rand)/rand)"
   ]
  },
  {
   "cell_type": "code",
   "execution_count": 3,
   "metadata": {},
   "outputs": [],
   "source": [
    "def time_to_pulses(time, t_0 = 0.011, a = 1.1, b = 0.015):\n",
    "    pulses = 0\n",
    "    pulse_duration = t_0\n",
    "    while time >= pulse_duration:\n",
    "        time = time - pulse_duration\n",
    "        pulses += 1\n",
    "        pulse_duration = a * pulse_duration + noise(b * a * pulse_duration)\n",
    "    return pulses"
   ]
  },
  {
   "cell_type": "code",
   "execution_count": 4,
   "metadata": {},
   "outputs": [],
   "source": [
    "def pulses_to_time(pulses, t_0 = 0.011, a = 1.1, b = 0.015):\n",
    "    time = 0\n",
    "    pulse_duration = t_0\n",
    "    while pulses > 0:\n",
    "        time = time + pulse_duration\n",
    "        pulses = pulses - 1\n",
    "        pulse_duration = a * pulse_duration + noise(b * a * pulse_duration)\n",
    "    return time"
   ]
  },
  {
   "cell_type": "code",
   "execution_count": 5,
   "metadata": {},
   "outputs": [],
   "source": [
    "# randomly choose one of the FP values (0.4, 0.8, 1.2, 1.6) and return FP and its pulse.\n",
    "def random_fp():\n",
    "    fp_list = [0.4, 0.8, 1.2, 1.6]\n",
    "    fp = random.choice(fp_list)\n",
    "    # subtracted 0.05 secs for preparation advantage as in previous assignment.\n",
    "    pulse = time_to_pulses(fp-0.05)\n",
    "    \n",
    "    return fp, pulse"
   ]
  },
  {
   "cell_type": "code",
   "execution_count": 6,
   "metadata": {},
   "outputs": [],
   "source": [
    "def experiment():\n",
    "    # List to save reaction times\n",
    "    rt = []\n",
    "    count = 1\n",
    "    \n",
    "    # create the Model object\n",
    "    m = Model()\n",
    "    # set decay to 0.1 (default was 0.5).\n",
    "    m.d = 0.1\n",
    "    \n",
    "    # initialize the dataframe with columns 'FP', 'FP_n-1', 'RT'.\n",
    "    column_names = ['FP', 'FP_n-1', 'RT']\n",
    "    df = pd.DataFrame(columns=column_names)\n",
    "    \n",
    "    for i in range(900):\n",
    "        if i == 0:\n",
    "            fp, current_pulse = random_fp()\n",
    "            expectation = current_pulse\n",
    "            \n",
    "            # when it is the first trial, add the starting chunk to the model with randomly selected FP and its pulse\n",
    "            # and append the default reaction time (0.4 secs) rt since we do not have any expectations yet.\n",
    "            starting = Chunk(name = \"starting\", slots = {\"fp\": fp, \"current\": current_pulse})\n",
    "            m.add_encounter(starting)\n",
    "            m.time += 0.05\n",
    "            \n",
    "            rt.append(0.4)\n",
    "            # append FP, FP_n-1 and RT (reaction time) to the dataframe. Since we do not have previous pulse, FP and FP_n-1\n",
    "            # are the same for the convenience. It does not affect the result of the experiment since we have many trails\n",
    "            # to run.\n",
    "            df = df.append({'FP': fp, 'FP_n-1': fp, 'RT': rt[i]}, ignore_index = True)\n",
    "        else:\n",
    "            # retrieve the pulse stored in previous trial.\n",
    "            query = Chunk(name = \"retrieval\", slots = {\"fp\": fp, \"current\": current_pulse})\n",
    "            result, latency = m.retrieve(query)\n",
    "            \n",
    "            # expectation is the pulse stored in previous trial.\n",
    "            expectation = result.slots[\"current\"]\n",
    "            # previous_fp is the fp value of the stored pulse.\n",
    "            previous_fp = result.slots[\"fp\"]\n",
    "            \n",
    "            m.add_encounter(result)\n",
    "            m.time += latency\n",
    "            \n",
    "            # convert expectation to time to calculate preparation.\n",
    "            expectation_time = pulses_to_time(expectation)\n",
    "            # randomly select FP for this trial and return it with its pulse.\n",
    "            fp, current_pulse = random_fp()\n",
    "            \n",
    "            # preparation is calculated as absolute value of difference between expectation_time (time of the previous pulse) \n",
    "            # and foreperiod (fp) calculated in this trial.\n",
    "            preparation = abs(expectation_time - fp)\n",
    "            # if expectation is before compared to foreperiod and preparation is bigger than 0.05 sec, response_time is 0.4\n",
    "            # (default reaction time) - 0.05 sec.\n",
    "            if expectation_time < fp:\n",
    "                if preparation > 0.05:\n",
    "                    response_time = 0.4 - 0.05\n",
    "                # if expectation is before compared to stimulus and preparation is smaller than 0.05 sec, response_time is 0.4\n",
    "                # (default reaction time) - preparation.\n",
    "                else:\n",
    "                    response_time = 0.4 - preparation\n",
    "                rt.append(response_time)\n",
    "            # if expectation is after compared to foreperiod, there is no preparation, hence response_time is 0.4\n",
    "            # (default reaction time) sec.\n",
    "            else:\n",
    "                rt.append(0.4)\n",
    "            # append FP, FP_n-1 and RT (reaction time) to the dataframe.\n",
    "            df = df.append({'FP': fp, 'FP_n-1': previous_fp, 'RT': rt[i]}, ignore_index = True)\n",
    "            \n",
    "            # add new chunk to the model that saves FP from this trial, its pulse and pulse from the previous trial.\n",
    "            new_chunk = Chunk(name = \"fp\" + str(count), slots = {\"fp\": fp, \"current\": current_pulse, \"previous\": expectation})\n",
    "            m.add_encounter(new_chunk)\n",
    "            m.time += 0.05\n",
    "            \n",
    "            count += 1\n",
    "\n",
    "    return df"
   ]
  },
  {
   "cell_type": "code",
   "execution_count": 7,
   "metadata": {},
   "outputs": [],
   "source": [
    "# run the above experiment for given number of subjects.\n",
    "def trials(subjects):\n",
    "    experiments = []\n",
    "    for i in range(subjects):\n",
    "        experiments.append(experiment())\n",
    "    \n",
    "    final_df = pd.concat(experiments)\n",
    "    \n",
    "    return final_df"
   ]
  },
  {
   "cell_type": "code",
   "execution_count": 8,
   "metadata": {},
   "outputs": [
    {
     "data": {
      "text/plain": [
       "<matplotlib.legend.Legend at 0x2121c7311c0>"
      ]
     },
     "execution_count": 8,
     "metadata": {},
     "output_type": "execute_result"
    },
    {
     "data": {
      "image/png": "[encoded data removed]",
      "text/plain": [
       "<Figure size 504x504 with 1 Axes>"
      ]
     },
     "metadata": {
      "needs_background": "light"
     },
     "output_type": "display_data"
    }
   ],
   "source": [
    "# run the experiment for 5 subjects. I tried 5, 10, 25 and 50, and saw that resulting graph does not change for many\n",
    "# participants. Hence, I decided to use 5 subjects since I have less computation power in my computer and results do not\n",
    "# change observably.\n",
    "df = trials(5)\n",
    "\n",
    "# calculate mean RT by FP_n-1\n",
    "mean_rt = df.groupby(['FP_n-1', 'FP'])['RT'].mean().reset_index()\n",
    "\n",
    "cond1 = mean_rt.loc[mean_rt['FP_n-1'] == 0.4]\n",
    "cond2 = mean_rt.loc[mean_rt['FP_n-1'] == 0.8]\n",
    "cond3 = mean_rt.loc[mean_rt['FP_n-1'] == 1.2]\n",
    "cond4 = mean_rt.loc[mean_rt['FP_n-1'] == 1.6]\n",
    "\n",
    "# make plot\n",
    "f, ax = plt.subplots(figsize = (7,7))\n",
    "\n",
    "ax.set(xlim = (0.3, 1.7), ylim = (0.34, 0.41))\n",
    "\n",
    "ax.set_title('Los et al.')\n",
    "\n",
    "ax.set_xlabel('RT (sec)')\n",
    "ax.set_ylabel('FP (sec)')\n",
    "\n",
    "ax.plot(cond1['FP'], cond1['RT'], color = 'red', marker = 'o', label = \"0.4\")\n",
    "ax.plot(cond2['FP'], cond2['RT'], color = 'green', marker = 'o', label = \"0.8\")\n",
    "ax.plot(cond3['FP'], cond3['RT'], color = 'blue', marker = 'o', label = \"1.2\")\n",
    "ax.plot(cond4['FP'], cond4['RT'], color = 'purple', marker = 'o', label = \"1.6\")\n",
    "\n",
    "ax.legend(title = 'Previous FP (FP_n-1)', prop={'size': 8})"
   ]
  },
  {
   "cell_type": "markdown",
   "metadata": {},
   "source": [
    "### Findings\n",
    "\n",
    "During the experiment, I realized that it is not possible to always retrieve the previous chunk. To see that how this could possible affect the resulting graph, I made a small experimentation: \n",
    "\n",
    "1) I use normal retrieval (I used it since Niels suggested to do so) playing with the decay parameter in ACT-R (since as you mentioned it is not possible to retrieve the previous chunk always) and 2) I stored the pulse from previous trial using list to exactly the retrieve previous pulse (since we can do it using a list). I discovered that even we are able to retrive the pulse from previous trial exactly, there were no difference at all between the graphs.\n",
    "\n",
    "Additionally, I played with the decay value (I tried 0.001, 0.08, 0.1, 0.5 and 100). When decay is 0.001, activations fluctuate between retrieved chunks, but sometimes it fails to retrieve a chunk. When decay is 100, all the activations are identical almost for the chunks retrieved. For the other values, nothing changed between the resulting graphs. I set the value for each subject inside the experiment() as m.d = x. You can experiment yourself changing the m.d inside experiment() to see.\n",
    "\n",
    "I believe that my resulting graph is plausible since it is somewhere between the original grap and Niels' graph. It follows the trends that are shown in both example graphs on Nestor."
   ]
  }
 ],
 "metadata": {
  "kernelspec": {
   "display_name": "Python 3",
   "language": "python",
   "name": "python3"
  },
  "language_info": {
   "codemirror_mode": {
    "name": "ipython",
    "version": 3
   },
   "file_extension": ".py",
   "mimetype": "text/x-python",
   "name": "python",
   "nbconvert_exporter": "python",
   "pygments_lexer": "ipython3",
   "version": "3.9.7"
  }
 },
 "nbformat": 4,
 "nbformat_minor": 2
}
