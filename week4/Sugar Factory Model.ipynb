{
 "cells": [
  {
   "cell_type": "markdown",
   "metadata": {},
   "source": [
    "## Model of the Sugar Factory Experiment"
   ]
  },
  {
   "cell_type": "code",
   "execution_count": 1,
   "metadata": {},
   "outputs": [
    {
     "ename": "ModuleNotFoundError",
     "evalue": "No module named 'model'",
     "output_type": "error",
     "traceback": [
      "\u001b[1;31m---------------------------------------------------------------------------\u001b[0m",
      "\u001b[1;31mModuleNotFoundError\u001b[0m                       Traceback (most recent call last)",
      "\u001b[1;32m<ipython-input-1-ca562c62539f>\u001b[0m in \u001b[0;36m<module>\u001b[1;34m\u001b[0m\n\u001b[1;32m----> 1\u001b[1;33m \u001b[1;32mfrom\u001b[0m \u001b[0mmodel\u001b[0m \u001b[1;32mimport\u001b[0m \u001b[0mModel\u001b[0m\u001b[1;33m\u001b[0m\u001b[1;33m\u001b[0m\u001b[0m\n\u001b[0m\u001b[0;32m      2\u001b[0m \u001b[1;32mfrom\u001b[0m \u001b[0mdmchunk\u001b[0m \u001b[1;32mimport\u001b[0m \u001b[0mChunk\u001b[0m\u001b[1;33m\u001b[0m\u001b[1;33m\u001b[0m\u001b[0m\n\u001b[0;32m      3\u001b[0m \u001b[1;32mimport\u001b[0m \u001b[0mnumpy\u001b[0m \u001b[1;32mas\u001b[0m \u001b[0mnp\u001b[0m\u001b[1;33m\u001b[0m\u001b[1;33m\u001b[0m\u001b[0m\n\u001b[0;32m      4\u001b[0m \u001b[1;32mimport\u001b[0m \u001b[0mmatplotlib\u001b[0m\u001b[1;33m.\u001b[0m\u001b[0mpyplot\u001b[0m \u001b[1;32mas\u001b[0m \u001b[0mplt\u001b[0m\u001b[1;33m\u001b[0m\u001b[1;33m\u001b[0m\u001b[0m\n",
      "\u001b[1;31mModuleNotFoundError\u001b[0m: No module named 'model'"
     ]
    }
   ],
   "source": [
    "from model import Model\n",
    "from dmchunk import Chunk\n",
    "import numpy as np\n",
    "import matplotlib.pyplot as plt"
   ]
  },
  {
   "cell_type": "markdown",
   "metadata": {},
   "source": [
    "First we define a function that determines the output of the factory"
   ]
  },
  {
   "cell_type": "code",
   "execution_count": 13,
   "metadata": {},
   "outputs": [],
   "source": [
    "def factory_output(w, prod):\n",
    "    new_production = 2 * w - prod + np.random.randint(-1,1)\n",
    "    if new_production > 12:\n",
    "        new_production = 12\n",
    "    elif new_production < 1:\n",
    "        new_production = 1\n",
    "    return new_production"
   ]
  },
  {
   "cell_type": "markdown",
   "metadata": {},
   "source": [
    "Target production is 9"
   ]
  },
  {
   "cell_type": "code",
   "execution_count": 14,
   "metadata": {},
   "outputs": [],
   "source": [
    "target = 9"
   ]
  },
  {
   "cell_type": "markdown",
   "metadata": {},
   "source": [
    "If the model fails to retrieve an experience, we need a backup default strategy. Here we just pick a random number of workers. Alternatively, we can try different default strategies"
   ]
  },
  {
   "cell_type": "code",
   "execution_count": 19,
   "metadata": {},
   "outputs": [],
   "source": [
    "guess = 0\n",
    "\n",
    "def default_strategy(production, target):\n",
    "    global guess\n",
    "    guess = (guess % 10) + 1\n",
    "    return guess"
   ]
  },
  {
   "cell_type": "code",
   "execution_count": 16,
   "metadata": {},
   "outputs": [],
   "source": [
    "def do_one_day(m, day, production):\n",
    "    query = Chunk(name = \"retrieval\", slots = {\"yesterday\" : production, \"today\" : target})\n",
    "    result, latency = m.retrieve_partial(query)\n",
    "    if result == None:\n",
    "        workers = default_strategy(production, target)\n",
    "    else:\n",
    "        workers = result.slots[\"workers\"]\n",
    "        m.add_encounter(result)\n",
    "    m.time += latency\n",
    "    new_production = factory_output(workers, production)\n",
    "    new_chunk = Chunk(name = \"experience\" + str(day), slots = {\"yesterday\" : production, \"workers\" : workers, \n",
    "                                                               \"today\": new_production})\n",
    "    m.add_encounter(new_chunk)\n",
    "    m.time += 5.0\n",
    "    return new_production"
   ]
  },
  {
   "cell_type": "code",
   "execution_count": 17,
   "metadata": {},
   "outputs": [],
   "source": [
    "def run_subject():\n",
    "    day = 1\n",
    "    production = 5\n",
    "    m = Model()\n",
    "    m.rt = -1.5\n",
    "    results = []\n",
    "    for i in range(80):\n",
    "        production = do_one_day(m, day, production)\n",
    "        if production >= 8 and production <= 10:\n",
    "            results.append(1)\n",
    "        else:\n",
    "            results.append(0)\n",
    "        day += 1\n",
    "    return results\n",
    "\n",
    "\n",
    "def run_experiment(n):\n",
    "    totals = []\n",
    "    for i in range(n):\n",
    "        results = run_subject()\n",
    "        if totals == []:\n",
    "            totals = results\n",
    "        else:\n",
    "            totals = [x + y for x,y in zip(totals, results)]\n",
    "    totals = [x / n for x in totals]\n",
    "    plt.plot(range(80),totals)\n",
    "        "
   ]
  },
  {
   "cell_type": "code",
   "execution_count": 20,
   "metadata": {},
   "outputs": [
    {
     "data": {
      "image/png": "[encoded data removed]",
      "text/plain": [
       "<Figure size 432x288 with 1 Axes>"
      ]
     },
     "metadata": {},
     "output_type": "display_data"
    }
   ],
   "source": [
    "run_experiment(500)"
   ]
  },
  {
   "cell_type": "code",
   "execution_count": null,
   "metadata": {},
   "outputs": [],
   "source": []
  },
  {
   "cell_type": "code",
   "execution_count": null,
   "metadata": {},
   "outputs": [],
   "source": []
  }
 ],
 "metadata": {
  "kernelspec": {
   "display_name": "Python 3",
   "language": "python",
   "name": "python3"
  },
  "language_info": {
   "codemirror_mode": {
    "name": "ipython",
    "version": 3
   },
   "file_extension": ".py",
   "mimetype": "text/x-python",
   "name": "python",
   "nbconvert_exporter": "python",
   "pygments_lexer": "ipython3",
   "version": "3.9.7"
  }
 },
 "nbformat": 4,
 "nbformat_minor": 2
}
