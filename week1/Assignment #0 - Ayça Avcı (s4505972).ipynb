{
 "cells": [
  {
   "cell_type": "markdown",
   "metadata": {},
   "source": [
    "<h1>Addition model</h1>"
   ]
  },
  {
   "cell_type": "code",
   "execution_count": 1,
   "metadata": {},
   "outputs": [],
   "source": [
    "from model import Model\n",
    "from dmchunk import Chunk"
   ]
  },
  {
   "cell_type": "code",
   "execution_count": 2,
   "metadata": {},
   "outputs": [],
   "source": [
    "m = Model()\n",
    "\n",
    "numbers = [\"zero\", \"one\", \"two\", \"three\", \"four\", \"five\", \"six\"]\n",
    "for i in range(0, len(numbers) - 1):\n",
    "    fact = Chunk(name = \"cf\" + numbers[i], slots = {\"isa\": \"count-fact\", \"num1\": numbers[i], \"num2\": numbers[i+1]})\n",
    "    m.add_encounter(fact)"
   ]
  },
  {
   "cell_type": "code",
   "execution_count": 3,
   "metadata": {},
   "outputs": [],
   "source": [
    "def add(num1, num2):\n",
    "    g = Chunk(name = \"goal\", slots = {\"isa\": \"sum-goal\", \"start\": num1, \"count\": num2})\n",
    "    m.goal = g\n",
    "    done = False\n",
    "    while not done:\n",
    "        if not \"current\" in g.slots:\n",
    "            # setting counter to a zero\n",
    "            g.slots[\"counter\"] = m.get_chunk(\"cfzero\").slots[\"num1\"]\n",
    "            counter = Chunk(name = \"counter\", slots = {\"isa\": \"count-fact\", \"num1\": g.slots[\"counter\"]})\n",
    "            m.time += .05\n",
    "            chunk2, latency2 = m.retrieve(counter)\n",
    "            m.time += latency2\n",
    "            # setting current sum to a start, which means the num1 given in the function arguments\n",
    "            g.slots[\"current\"] = g.slots[\"start\"]\n",
    "            request = Chunk(name = \"request\", slots = {\"isa\": \"count-fact\", \"num1\": g.slots[\"current\"]})\n",
    "            m.time += .05\n",
    "            chunk1, latency1 = m.retrieve(request)\n",
    "            m.time += latency1\n",
    "            # if we have a case like 0 addition (add(\"two\", \"zero)\"), it just prints out the num1.\n",
    "            # it does not work where the num1=\"six\" since there is not a chunk created initially that contains \"six\"\n",
    "            # as num2.\n",
    "            if g.slots[\"count\"] == g.slots[\"counter\"]:\n",
    "                print(g.slots[\"current\"])\n",
    "                done = True\n",
    "            # else it prints out the current, and sets it to the next number in the chunk. Also sets the counter\n",
    "            # to the next number, which means increasing it by one, in the chunk that counter's initial value set.\n",
    "            else:\n",
    "                print(g.slots[\"current\"])\n",
    "                g.slots[\"current\"] = chunk1.slots[\"num2\"]\n",
    "                m.time += 0.3\n",
    "                g.slots[\"counter\"] = chunk2.slots[\"num2\"]\n",
    "                m.time += 0.3\n",
    "        elif g.slots[\"count\"] != g.slots[\"counter\"] and not done:\n",
    "            counter = Chunk(name = \"counter\", slots = {\"isa\": \"count-fact\", \"num1\": g.slots[\"counter\"]})\n",
    "            m.time += .05\n",
    "            chunk2, latency2 = m.retrieve(counter)\n",
    "            m.time += latency2\n",
    "            g.slots[\"counter\"] = chunk2.slots[\"num2\"]\n",
    "            m.time += 0.3\n",
    "            \n",
    "            request = Chunk(name = \"request\", slots = {\"isa\": \"count-fact\", \"num1\": g.slots[\"current\"]})\n",
    "            m.time += .05\n",
    "            chunk1, latency1 = m.retrieve(request)\n",
    "            m.time += latency1\n",
    "            print(g.slots[\"current\"])\n",
    "            g.slots[\"current\"] = chunk1.slots[\"num2\"]\n",
    "            m.time += 0.3\n",
    "        else:\n",
    "            print(g.slots[\"current\"])\n",
    "            done = True"
   ]
  },
  {
   "cell_type": "code",
   "execution_count": 4,
   "metadata": {},
   "outputs": [
    {
     "name": "stdout",
     "output_type": "stream",
     "text": [
      "one\n",
      "two\n",
      "three\n",
      "four\n",
      "five\n",
      "six\n"
     ]
    }
   ],
   "source": [
    "add(\"one\", \"five\")"
   ]
  }
 ],
 "metadata": {
  "kernelspec": {
   "display_name": "Python 3",
   "language": "python",
   "name": "python3"
  },
  "language_info": {
   "codemirror_mode": {
    "name": "ipython",
    "version": 3
   },
   "file_extension": ".py",
   "mimetype": "text/x-python",
   "name": "python",
   "nbconvert_exporter": "python",
   "pygments_lexer": "ipython3",
   "version": "3.9.7"
  }
 },
 "nbformat": 4,
 "nbformat_minor": 4
}
