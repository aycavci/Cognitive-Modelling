{
 "cells": [
  {
   "cell_type": "markdown",
   "metadata": {},
   "source": [
    "## Model of Grosjean et al. experiment"
   ]
  },
  {
   "cell_type": "code",
   "execution_count": 1,
   "metadata": {},
   "outputs": [],
   "source": [
    "import math\n",
    "import random\n",
    "import pandas as pd\n",
    "import numpy as np\n",
    "import matplotlib.pyplot as plt\n",
    "import seaborn as sns\n",
    "import operator\n",
    "\n",
    "def noise(s):\n",
    "    rand = random.uniform(0.001,0.999)\n",
    "    return s * math.log((1 - rand)/rand)\n",
    "\n",
    "def time_to_pulses(time, t_0 = 0.011, a = 1.1, b = 0.015):\n",
    "    pulses = 0\n",
    "    pulse_duration = t_0\n",
    "    while time >= pulse_duration:\n",
    "        time = time - pulse_duration\n",
    "        pulses += 1\n",
    "        pulse_duration = a * pulse_duration + noise(b * a * pulse_duration)\n",
    "    return pulses\n",
    "\n",
    "def pulses_to_time(pulses, t_0 = 0.011, a = 1.1, b = 0.015):\n",
    "    time = 0\n",
    "    pulse_duration = t_0\n",
    "    while pulses > 0:\n",
    "        time = time + pulse_duration\n",
    "        pulses = pulses - 1\n",
    "        pulse_duration = a * pulse_duration + noise(b * a * pulse_duration)\n",
    "    return time\n"
   ]
  },
  {
   "cell_type": "markdown",
   "metadata": {},
   "source": [
    "Set some assumed parameters"
   ]
  },
  {
   "cell_type": "code",
   "execution_count": 2,
   "metadata": {},
   "outputs": [],
   "source": [
    "Unprepared_RT = 0.410\n",
    "Prep_advantage = 0.050\n",
    "total_blocks = 200"
   ]
  },
  {
   "cell_type": "markdown",
   "metadata": {},
   "source": [
    "Do a single trial"
   ]
  },
  {
   "cell_type": "code",
   "execution_count": 3,
   "metadata": {},
   "outputs": [],
   "source": [
    "def do_trial(R_to_S_time, final_time=0.467):\n",
    "    results = []\n",
    "    # First trial: we have no idea yet\n",
    "    results.append(Unprepared_RT)\n",
    "    pulses = time_to_pulses(R_to_S_time - Prep_advantage)\n",
    "    count = 1\n",
    "    for trial in range(2,17):\n",
    "        if trial == 16:\n",
    "            trial_R_to_S = final_time\n",
    "        else:\n",
    "            trial_R_to_S = R_to_S_time\n",
    "        prep = pulses_to_time(pulses/count)\n",
    "        if (prep > trial_R_to_S):  # Stimulus appears before we are prepared\n",
    "            RT = Unprepared_RT\n",
    "        elif (prep < trial_R_to_S - Prep_advantage): # Stimulus appears more than 50ms after we are prepared\n",
    "            RT = Unprepared_RT - Prep_advantage\n",
    "        else:\n",
    "            RT = Unprepared_RT - (trial_R_to_S - prep) # Stimulus appears when we are still preparing\n",
    "        results.append(RT)\n",
    "        count += 1\n",
    "        pulses += time_to_pulses(R_to_S_time - Prep_advantage)\n",
    "    return results"
   ]
  },
  {
   "cell_type": "markdown",
   "metadata": {},
   "source": [
    "Run for a number of trials"
   ]
  },
  {
   "cell_type": "code",
   "execution_count": 4,
   "metadata": {},
   "outputs": [],
   "source": [
    "def run_trials(n, R_to_S_time):\n",
    "    totals = do_trial(R_to_S_time)\n",
    "    for i in range(n-1):\n",
    "        result = do_trial(R_to_S_time)\n",
    "        for j in range(0,len(totals)):\n",
    "            totals[j] += result[j]\n",
    "    for i in range(0,len(totals)):\n",
    "        totals[i] = totals[i]/n\n",
    "    return totals"
   ]
  },
  {
   "cell_type": "code",
   "execution_count": 5,
   "metadata": {},
   "outputs": [],
   "source": [
    "def plot_result(R_to_S_time):\n",
    "    results = run_trials(total_blocks, R_to_S_time)\n",
    "    plt.plot([6,7,8,9,10,11,12,13,14,15,16],results[5:16],marker=\"o\")\n",
    "    plt.ylim([.340, .420])"
   ]
  },
  {
   "cell_type": "markdown",
   "metadata": {},
   "source": [
    "First, the shortening condition: first fifteen trials are on 700 ms, last 467 ms"
   ]
  },
  {
   "cell_type": "code",
   "execution_count": 6,
   "metadata": {},
   "outputs": [
    {
     "data": {
      "image/png": "[encoded data removed]",
      "text/plain": [
       "<Figure size 432x288 with 1 Axes>"
      ]
     },
     "metadata": {},
     "output_type": "display_data"
    }
   ],
   "source": [
    "plot_result(.7)"
   ]
  },
  {
   "cell_type": "markdown",
   "metadata": {},
   "source": [
    "The constant condition: 467 ms throughout"
   ]
  },
  {
   "cell_type": "code",
   "execution_count": 7,
   "metadata": {},
   "outputs": [
    {
     "data": {
      "image/png": "[encoded data removed]",
      "text/plain": [
       "<Figure size 432x288 with 1 Axes>"
      ]
     },
     "metadata": {},
     "output_type": "display_data"
    }
   ],
   "source": [
    "plot_result(.467)"
   ]
  },
  {
   "cell_type": "markdown",
   "metadata": {},
   "source": [
    "Finally, the lengthened condition: first fifteen 350 ms, last again 467 ms"
   ]
  },
  {
   "cell_type": "code",
   "execution_count": 8,
   "metadata": {},
   "outputs": [
    {
     "data": {
      "image/png": "[encoded data removed]",
      "text/plain": [
       "<Figure size 432x288 with 1 Axes>"
      ]
     },
     "metadata": {},
     "output_type": "display_data"
    }
   ],
   "source": [
    "plot_result(.35)"
   ]
  },
  {
   "cell_type": "code",
   "execution_count": null,
   "metadata": {},
   "outputs": [],
   "source": []
  }
 ],
 "metadata": {
  "kernelspec": {
   "display_name": "Python 3",
   "language": "python",
   "name": "python3"
  },
  "language_info": {
   "codemirror_mode": {
    "name": "ipython",
    "version": 3
   },
   "file_extension": ".py",
   "mimetype": "text/x-python",
   "name": "python",
   "nbconvert_exporter": "python",
   "pygments_lexer": "ipython3",
   "version": "3.9.7"
  }
 },
 "nbformat": 4,
 "nbformat_minor": 2
}
